{
 "cells": [
  {
   "cell_type": "markdown",
   "id": "75e3181a",
   "metadata": {},
   "source": [
    "# Оценка результатов A/B-тестирования"
   ]
  },
  {
   "cell_type": "markdown",
   "id": "d0302518",
   "metadata": {},
   "source": [
    "**Техническое задание:**\n",
    "- Название теста: `recommender_system_test`;\n",
    "- группы: А — контрольная, B — новая платёжная воронка;\n",
    "- дата запуска: 2020-12-07;\n",
    "- дата остановки набора новых пользователей: 2020-12-21;\n",
    "- дата остановки: 2021-01-04;\n",
    "- аудитория: 15% новых пользователей из региона EU;\n",
    "- назначение теста: тестирование изменений, связанных с внедрением улучшенной рекомендательной системы;\n",
    "- ожидаемое количество участников теста: 6000.\n",
    "- ожидаемый эффект: за 14 дней с момента регистрации пользователи покажут улучшение каждой метрики не менее, чем на 10%:\n",
    "    - конверсии в просмотр карточек товаров — событие `product_page`,\n",
    "    - просмотры корзины — `product_cart`,\n",
    "    - покупки — `purchase`.\n"
   ]
  },
  {
   "cell_type": "markdown",
   "id": "ec01743b",
   "metadata": {},
   "source": [
    "***Цель:***  *Провести оценку результатов A/B-теста.*\n",
    "\n",
    "**Задачи:**\n",
    "- Оценить корректность проведения теста. Проверить:\n",
    "    - Соответствие данных требованиям технического задания. В случае нарушения требований оцените, насколько существенно негативное влияние на результаты теста. При проверке условий технического задания и фильтрации данных, проконтролировать количество уникальных пользователей, принимающих участие в тесте – это поможет детальнее изучить влияние каждого условия на аудиторию теста.\n",
    "    - Время проведения теста. Убедиться, что оно не совпадает с маркетинговыми и другими активностями.\n",
    "    - Аудиторию теста. Удостовериться, что нет пересечений с конкурирующим тестом и нет пользователей, участвующих в двух группах теста одновременно. Проверить равномерность распределения пользователей по группам и правильность их формирования.\n",
    "- Проанализировать результаты теста"
   ]
  },
  {
   "cell_type": "markdown",
   "id": "fc4f2ae2",
   "metadata": {},
   "source": [
    "# Описание данных\n",
    "\n",
    "`ab_project_marketing_events.csv` — календарь маркетинговых событий на 2020 год.\n",
    "\n",
    "`final_ab_new_users.csv` — пользователи, зарегистрировавшиеся с 7 по 21 декабря 2020 года.\n",
    "\n",
    "`final_ab_events.csv` — действия новых пользователей в период с 7 декабря 2020 по 4 января 2021 года.\n",
    "\n",
    "`final_ab_participants.csv` — таблица участников тестов."
   ]
  },
  {
   "cell_type": "markdown",
   "id": "a5a90bed",
   "metadata": {
    "toc": true
   },
   "source": [
    "<h1>Содержание<span class=\"tocSkip\"></span></h1>\n",
    "<div class=\"toc\"><ul class=\"toc-item\"><li><span><a href=\"#Знакомство-с-данными\" data-toc-modified-id=\"Знакомство-с-данными-1\"><span class=\"toc-item-num\">1&nbsp;&nbsp;</span>Знакомство с данными</a></span><ul class=\"toc-item\"><li><span><a href=\"#Таблица-marketing_events\" data-toc-modified-id=\"Таблица-marketing_events-1.1\"><span class=\"toc-item-num\">1.1&nbsp;&nbsp;</span>Таблица marketing_events</a></span></li><li><span><a href=\"#Таблица-new_users\" data-toc-modified-id=\"Таблица-new_users-1.2\"><span class=\"toc-item-num\">1.2&nbsp;&nbsp;</span>Таблица new_users</a></span></li><li><span><a href=\"#Таблица-events\" data-toc-modified-id=\"Таблица-events-1.3\"><span class=\"toc-item-num\">1.3&nbsp;&nbsp;</span>Таблица events</a></span></li><li><span><a href=\"#Таблица-participants\" data-toc-modified-id=\"Таблица-participants-1.4\"><span class=\"toc-item-num\">1.4&nbsp;&nbsp;</span>Таблица participants</a></span></li></ul></li><li><span><a href=\"#Корректность-проведения-теста\" data-toc-modified-id=\"Корректность-проведения-теста-2\"><span class=\"toc-item-num\">2&nbsp;&nbsp;</span>Корректность проведения теста</a></span></li><li><span><a href=\"#Исследовательский-анализ\" data-toc-modified-id=\"Исследовательский-анализ-3\"><span class=\"toc-item-num\">3&nbsp;&nbsp;</span>Исследовательский анализ</a></span><ul class=\"toc-item\"><li><span><a href=\"#Количество-событий-на-пользователя\" data-toc-modified-id=\"Количество-событий-на-пользователя-3.1\"><span class=\"toc-item-num\">3.1&nbsp;&nbsp;</span>Количество событий на пользователя</a></span></li><li><span><a href=\"#Распределение-числа-событий-по-дням\" data-toc-modified-id=\"Распределение-числа-событий-по-дням-3.2\"><span class=\"toc-item-num\">3.2&nbsp;&nbsp;</span>Распределение числа событий по дням</a></span></li><li><span><a href=\"#Конверсия-воронки-в-выборках-на-разных-этапах\" data-toc-modified-id=\"Конверсия-воронки-в-выборках-на-разных-этапах-3.3\"><span class=\"toc-item-num\">3.3&nbsp;&nbsp;</span>Конверсия воронки в выборках на разных этапах</a></span></li></ul></li><li><span><a href=\"#Результаты-A/B-тестирования\" data-toc-modified-id=\"Результаты-A/B-тестирования-4\"><span class=\"toc-item-num\">4&nbsp;&nbsp;</span>Результаты A/B-тестирования</a></span></li><li><span><a href=\"#Выводы\" data-toc-modified-id=\"Выводы-5\"><span class=\"toc-item-num\">5&nbsp;&nbsp;</span>Выводы</a></span></li></ul></div>"
   ]
  },
  {
   "cell_type": "markdown",
   "id": "9dc3b3a7",
   "metadata": {},
   "source": [
    "## Знакомство с данными"
   ]
  },
  {
   "cell_type": "code",
   "execution_count": 1,
   "id": "9d90f5cb",
   "metadata": {},
   "outputs": [],
   "source": [
    "# импортируем библиотеки\n",
    "import pandas as pd \n",
    "import numpy as np\n",
    "import datetime as dt\n",
    "import matplotlib.pyplot as plt\n",
    "import seaborn as sns\n",
    "from scipy import stats as st\n",
    "import math as mth\n",
    "import warnings # импортируем warnings, чтобы исключить предупреждения \n",
    "warnings.simplefilter(\"ignore\")\n",
    "%config InlineBackend.figure_format = 'retina'#добавляем графикам четкости"
   ]
  },
  {
   "cell_type": "code",
   "execution_count": 2,
   "id": "7b445c9d",
   "metadata": {},
   "outputs": [],
   "source": [
    "# читаем файлы с данными\n",
    "marketing_events = pd.read_csv('ab_project_marketing_events.csv')\n",
    "new_users = pd.read_csv('final_ab_new_users.csv')\n",
    "events = pd.read_csv('final_ab_events.csv')\n",
    "participants = pd.read_csv('final_ab_participants.csv')"
   ]
  },
  {
   "cell_type": "code",
   "execution_count": 3,
   "id": "64516ccc",
   "metadata": {},
   "outputs": [],
   "source": [
    "# задаем функцию для вывода общей информации по данным\n",
    "def data_info(data):\n",
    "    display(data.head())\n",
    "    print()\n",
    "    print('Информация о таблице:')\n",
    "    print()\n",
    "    print(data.info())\n",
    "    print()\n",
    "\n",
    "    if data.isna().sum().sum() == 0:\n",
    "        print('Пропусков в данных нет')\n",
    "    else:\n",
    "        print('Количество пропусков по столбцам:')\n",
    "        print(data.isna().sum())\n",
    "    print('Количество дубликатов:', data.duplicated().sum())\n",
    "    print()\n",
    "    for i in data:\n",
    "        print('Количество yникальныx значений столбца', i,':', data[i].nunique() )\n",
    "        print('Уникальные значения столбца', i,':')\n",
    "        print(data[i].sort_values().unique())\n",
    "        print()"
   ]
  },
  {
   "cell_type": "markdown",
   "id": "f77103c9",
   "metadata": {},
   "source": [
    "### Таблица marketing_events"
   ]
  },
  {
   "cell_type": "code",
   "execution_count": 4,
   "id": "2a688ae3",
   "metadata": {
    "scrolled": false
   },
   "outputs": [
    {
     "data": {
      "text/html": [
       "<div>\n",
       "<style scoped>\n",
       "    .dataframe tbody tr th:only-of-type {\n",
       "        vertical-align: middle;\n",
       "    }\n",
       "\n",
       "    .dataframe tbody tr th {\n",
       "        vertical-align: top;\n",
       "    }\n",
       "\n",
       "    .dataframe thead th {\n",
       "        text-align: right;\n",
       "    }\n",
       "</style>\n",
       "<table border=\"1\" class=\"dataframe\">\n",
       "  <thead>\n",
       "    <tr style=\"text-align: right;\">\n",
       "      <th></th>\n",
       "      <th>name</th>\n",
       "      <th>regions</th>\n",
       "      <th>start_dt</th>\n",
       "      <th>finish_dt</th>\n",
       "    </tr>\n",
       "  </thead>\n",
       "  <tbody>\n",
       "    <tr>\n",
       "      <th>0</th>\n",
       "      <td>Christmas&amp;New Year Promo</td>\n",
       "      <td>EU, N.America</td>\n",
       "      <td>2020-12-25</td>\n",
       "      <td>2021-01-03</td>\n",
       "    </tr>\n",
       "    <tr>\n",
       "      <th>1</th>\n",
       "      <td>St. Valentine's Day Giveaway</td>\n",
       "      <td>EU, CIS, APAC, N.America</td>\n",
       "      <td>2020-02-14</td>\n",
       "      <td>2020-02-16</td>\n",
       "    </tr>\n",
       "    <tr>\n",
       "      <th>2</th>\n",
       "      <td>St. Patric's Day Promo</td>\n",
       "      <td>EU, N.America</td>\n",
       "      <td>2020-03-17</td>\n",
       "      <td>2020-03-19</td>\n",
       "    </tr>\n",
       "    <tr>\n",
       "      <th>3</th>\n",
       "      <td>Easter Promo</td>\n",
       "      <td>EU, CIS, APAC, N.America</td>\n",
       "      <td>2020-04-12</td>\n",
       "      <td>2020-04-19</td>\n",
       "    </tr>\n",
       "    <tr>\n",
       "      <th>4</th>\n",
       "      <td>4th of July Promo</td>\n",
       "      <td>N.America</td>\n",
       "      <td>2020-07-04</td>\n",
       "      <td>2020-07-11</td>\n",
       "    </tr>\n",
       "  </tbody>\n",
       "</table>\n",
       "</div>"
      ],
      "text/plain": [
       "                           name                   regions    start_dt  \\\n",
       "0      Christmas&New Year Promo             EU, N.America  2020-12-25   \n",
       "1  St. Valentine's Day Giveaway  EU, CIS, APAC, N.America  2020-02-14   \n",
       "2        St. Patric's Day Promo             EU, N.America  2020-03-17   \n",
       "3                  Easter Promo  EU, CIS, APAC, N.America  2020-04-12   \n",
       "4             4th of July Promo                 N.America  2020-07-04   \n",
       "\n",
       "    finish_dt  \n",
       "0  2021-01-03  \n",
       "1  2020-02-16  \n",
       "2  2020-03-19  \n",
       "3  2020-04-19  \n",
       "4  2020-07-11  "
      ]
     },
     "metadata": {},
     "output_type": "display_data"
    },
    {
     "name": "stdout",
     "output_type": "stream",
     "text": [
      "\n",
      "Информация о таблице:\n",
      "\n",
      "<class 'pandas.core.frame.DataFrame'>\n",
      "RangeIndex: 14 entries, 0 to 13\n",
      "Data columns (total 4 columns):\n",
      " #   Column     Non-Null Count  Dtype \n",
      "---  ------     --------------  ----- \n",
      " 0   name       14 non-null     object\n",
      " 1   regions    14 non-null     object\n",
      " 2   start_dt   14 non-null     object\n",
      " 3   finish_dt  14 non-null     object\n",
      "dtypes: object(4)\n",
      "memory usage: 576.0+ bytes\n",
      "None\n",
      "\n",
      "Пропусков в данных нет\n",
      "Количество дубликатов: 0\n",
      "\n",
      "Количество yникальныx значений столбца name : 14\n",
      "Уникальные значения столбца name :\n",
      "['4th of July Promo' 'Black Friday Ads Campaign'\n",
      " 'CIS New Year Gift Lottery' 'Chinese Moon Festival'\n",
      " 'Chinese New Year Promo' 'Christmas&New Year Promo'\n",
      " 'Dragon Boat Festival Giveaway' 'Easter Promo'\n",
      " \"International Women's Day Promo\" 'Labor day (May 1st) Ads Campaign'\n",
      " \"Single's Day Gift Promo\" \"St. Patric's Day Promo\"\n",
      " \"St. Valentine's Day Giveaway\" 'Victory Day CIS (May 9th) Event']\n",
      "\n",
      "Количество yникальныx значений столбца regions : 6\n",
      "Уникальные значения столбца regions :\n",
      "['APAC' 'CIS' 'EU, CIS, APAC' 'EU, CIS, APAC, N.America' 'EU, N.America'\n",
      " 'N.America']\n",
      "\n",
      "Количество yникальныx значений столбца start_dt : 14\n",
      "Уникальные значения столбца start_dt :\n",
      "['2020-01-25' '2020-02-14' '2020-03-08' '2020-03-17' '2020-04-12'\n",
      " '2020-05-01' '2020-05-09' '2020-06-25' '2020-07-04' '2020-10-01'\n",
      " '2020-11-11' '2020-11-26' '2020-12-25' '2020-12-30']\n",
      "\n",
      "Количество yникальныx значений столбца finish_dt : 14\n",
      "Уникальные значения столбца finish_dt :\n",
      "['2020-02-07' '2020-02-16' '2020-03-10' '2020-03-19' '2020-04-19'\n",
      " '2020-05-03' '2020-05-11' '2020-07-01' '2020-07-11' '2020-10-07'\n",
      " '2020-11-12' '2020-12-01' '2021-01-03' '2021-01-07']\n",
      "\n"
     ]
    }
   ],
   "source": [
    "data_info(marketing_events)"
   ]
  },
  {
   "cell_type": "markdown",
   "id": "a0fd90dc",
   "metadata": {},
   "source": [
    "Таблица `marketing_events` содержит 4 столбца:\n",
    " - 14 названий маркетинговых событий;\n",
    " - регионы, в которых будет проводиться рекламная кампания (Северная Америка, Европа, Азиатско-тихоокеанский регион и СНГ);\n",
    " - даты начала кампаний;\n",
    " - даты завершения кампаний.\n",
    " \n",
    "Пропусков и дубоикатов в данных нет."
   ]
  },
  {
   "cell_type": "markdown",
   "id": "6a4680e5",
   "metadata": {},
   "source": [
    "### Таблица new_users"
   ]
  },
  {
   "cell_type": "code",
   "execution_count": 5,
   "id": "30455d3d",
   "metadata": {},
   "outputs": [
    {
     "data": {
      "text/html": [
       "<div>\n",
       "<style scoped>\n",
       "    .dataframe tbody tr th:only-of-type {\n",
       "        vertical-align: middle;\n",
       "    }\n",
       "\n",
       "    .dataframe tbody tr th {\n",
       "        vertical-align: top;\n",
       "    }\n",
       "\n",
       "    .dataframe thead th {\n",
       "        text-align: right;\n",
       "    }\n",
       "</style>\n",
       "<table border=\"1\" class=\"dataframe\">\n",
       "  <thead>\n",
       "    <tr style=\"text-align: right;\">\n",
       "      <th></th>\n",
       "      <th>user_id</th>\n",
       "      <th>first_date</th>\n",
       "      <th>region</th>\n",
       "      <th>device</th>\n",
       "    </tr>\n",
       "  </thead>\n",
       "  <tbody>\n",
       "    <tr>\n",
       "      <th>0</th>\n",
       "      <td>D72A72121175D8BE</td>\n",
       "      <td>2020-12-07</td>\n",
       "      <td>EU</td>\n",
       "      <td>PC</td>\n",
       "    </tr>\n",
       "    <tr>\n",
       "      <th>1</th>\n",
       "      <td>F1C668619DFE6E65</td>\n",
       "      <td>2020-12-07</td>\n",
       "      <td>N.America</td>\n",
       "      <td>Android</td>\n",
       "    </tr>\n",
       "    <tr>\n",
       "      <th>2</th>\n",
       "      <td>2E1BF1D4C37EA01F</td>\n",
       "      <td>2020-12-07</td>\n",
       "      <td>EU</td>\n",
       "      <td>PC</td>\n",
       "    </tr>\n",
       "    <tr>\n",
       "      <th>3</th>\n",
       "      <td>50734A22C0C63768</td>\n",
       "      <td>2020-12-07</td>\n",
       "      <td>EU</td>\n",
       "      <td>iPhone</td>\n",
       "    </tr>\n",
       "    <tr>\n",
       "      <th>4</th>\n",
       "      <td>E1BDDCE0DAFA2679</td>\n",
       "      <td>2020-12-07</td>\n",
       "      <td>N.America</td>\n",
       "      <td>iPhone</td>\n",
       "    </tr>\n",
       "  </tbody>\n",
       "</table>\n",
       "</div>"
      ],
      "text/plain": [
       "            user_id  first_date     region   device\n",
       "0  D72A72121175D8BE  2020-12-07         EU       PC\n",
       "1  F1C668619DFE6E65  2020-12-07  N.America  Android\n",
       "2  2E1BF1D4C37EA01F  2020-12-07         EU       PC\n",
       "3  50734A22C0C63768  2020-12-07         EU   iPhone\n",
       "4  E1BDDCE0DAFA2679  2020-12-07  N.America   iPhone"
      ]
     },
     "metadata": {},
     "output_type": "display_data"
    },
    {
     "name": "stdout",
     "output_type": "stream",
     "text": [
      "\n",
      "Информация о таблице:\n",
      "\n",
      "<class 'pandas.core.frame.DataFrame'>\n",
      "RangeIndex: 61733 entries, 0 to 61732\n",
      "Data columns (total 4 columns):\n",
      " #   Column      Non-Null Count  Dtype \n",
      "---  ------      --------------  ----- \n",
      " 0   user_id     61733 non-null  object\n",
      " 1   first_date  61733 non-null  object\n",
      " 2   region      61733 non-null  object\n",
      " 3   device      61733 non-null  object\n",
      "dtypes: object(4)\n",
      "memory usage: 1.9+ MB\n",
      "None\n",
      "\n",
      "Пропусков в данных нет\n",
      "Количество дубликатов: 0\n",
      "\n",
      "Количество yникальныx значений столбца user_id : 61733\n",
      "Уникальные значения столбца user_id :\n",
      "['0001710F4DDB1D1B' '000199F1887AE5E6' '0002499E372175C7' ...\n",
      " 'FFF91B6C5431F375' 'FFFAB034A09DCC28' 'FFFFE36C0F6E92DF']\n",
      "\n",
      "Количество yникальныx значений столбца first_date : 17\n",
      "Уникальные значения столбца first_date :\n",
      "['2020-12-07' '2020-12-08' '2020-12-09' '2020-12-10' '2020-12-11'\n",
      " '2020-12-12' '2020-12-13' '2020-12-14' '2020-12-15' '2020-12-16'\n",
      " '2020-12-17' '2020-12-18' '2020-12-19' '2020-12-20' '2020-12-21'\n",
      " '2020-12-22' '2020-12-23']\n",
      "\n",
      "Количество yникальныx значений столбца region : 4\n",
      "Уникальные значения столбца region :\n",
      "['APAC' 'CIS' 'EU' 'N.America']\n",
      "\n",
      "Количество yникальныx значений столбца device : 4\n",
      "Уникальные значения столбца device :\n",
      "['Android' 'Mac' 'PC' 'iPhone']\n",
      "\n"
     ]
    }
   ],
   "source": [
    "data_info(new_users)"
   ]
  },
  {
   "cell_type": "markdown",
   "id": "1c8c62cf",
   "metadata": {},
   "source": [
    "Таблица `new_users` содержит 4 столбца:\n",
    " - 61733 уникальных пользователя;\n",
    " - 17 кникальных дат регистрации;\n",
    " - 4 региона пользователей ('EU', 'N.America', 'APAC', 'CIS');\n",
    " - 4 вида устройств, с которого происходила регистрация('PC','Android', 'iPhone' и 'Mac')\n",
    " \n",
    " Новые пользователи регистрировались с 7 по 23 декабря.\\\n",
    " Пропусков и дубликатов в данных нет"
   ]
  },
  {
   "cell_type": "markdown",
   "id": "af42d1e7",
   "metadata": {},
   "source": [
    "### Таблица events"
   ]
  },
  {
   "cell_type": "code",
   "execution_count": 6,
   "id": "4e0d8075",
   "metadata": {},
   "outputs": [
    {
     "data": {
      "text/html": [
       "<div>\n",
       "<style scoped>\n",
       "    .dataframe tbody tr th:only-of-type {\n",
       "        vertical-align: middle;\n",
       "    }\n",
       "\n",
       "    .dataframe tbody tr th {\n",
       "        vertical-align: top;\n",
       "    }\n",
       "\n",
       "    .dataframe thead th {\n",
       "        text-align: right;\n",
       "    }\n",
       "</style>\n",
       "<table border=\"1\" class=\"dataframe\">\n",
       "  <thead>\n",
       "    <tr style=\"text-align: right;\">\n",
       "      <th></th>\n",
       "      <th>user_id</th>\n",
       "      <th>event_dt</th>\n",
       "      <th>event_name</th>\n",
       "      <th>details</th>\n",
       "    </tr>\n",
       "  </thead>\n",
       "  <tbody>\n",
       "    <tr>\n",
       "      <th>0</th>\n",
       "      <td>E1BDDCE0DAFA2679</td>\n",
       "      <td>2020-12-07 20:22:03</td>\n",
       "      <td>purchase</td>\n",
       "      <td>99.99</td>\n",
       "    </tr>\n",
       "    <tr>\n",
       "      <th>1</th>\n",
       "      <td>7B6452F081F49504</td>\n",
       "      <td>2020-12-07 09:22:53</td>\n",
       "      <td>purchase</td>\n",
       "      <td>9.99</td>\n",
       "    </tr>\n",
       "    <tr>\n",
       "      <th>2</th>\n",
       "      <td>9CD9F34546DF254C</td>\n",
       "      <td>2020-12-07 12:59:29</td>\n",
       "      <td>purchase</td>\n",
       "      <td>4.99</td>\n",
       "    </tr>\n",
       "    <tr>\n",
       "      <th>3</th>\n",
       "      <td>96F27A054B191457</td>\n",
       "      <td>2020-12-07 04:02:40</td>\n",
       "      <td>purchase</td>\n",
       "      <td>4.99</td>\n",
       "    </tr>\n",
       "    <tr>\n",
       "      <th>4</th>\n",
       "      <td>1FD7660FDF94CA1F</td>\n",
       "      <td>2020-12-07 10:15:09</td>\n",
       "      <td>purchase</td>\n",
       "      <td>4.99</td>\n",
       "    </tr>\n",
       "  </tbody>\n",
       "</table>\n",
       "</div>"
      ],
      "text/plain": [
       "            user_id             event_dt event_name  details\n",
       "0  E1BDDCE0DAFA2679  2020-12-07 20:22:03   purchase    99.99\n",
       "1  7B6452F081F49504  2020-12-07 09:22:53   purchase     9.99\n",
       "2  9CD9F34546DF254C  2020-12-07 12:59:29   purchase     4.99\n",
       "3  96F27A054B191457  2020-12-07 04:02:40   purchase     4.99\n",
       "4  1FD7660FDF94CA1F  2020-12-07 10:15:09   purchase     4.99"
      ]
     },
     "metadata": {},
     "output_type": "display_data"
    },
    {
     "name": "stdout",
     "output_type": "stream",
     "text": [
      "\n",
      "Информация о таблице:\n",
      "\n",
      "<class 'pandas.core.frame.DataFrame'>\n",
      "RangeIndex: 440317 entries, 0 to 440316\n",
      "Data columns (total 4 columns):\n",
      " #   Column      Non-Null Count   Dtype  \n",
      "---  ------      --------------   -----  \n",
      " 0   user_id     440317 non-null  object \n",
      " 1   event_dt    440317 non-null  object \n",
      " 2   event_name  440317 non-null  object \n",
      " 3   details     62740 non-null   float64\n",
      "dtypes: float64(1), object(3)\n",
      "memory usage: 13.4+ MB\n",
      "None\n",
      "\n",
      "Количество пропусков по столбцам:\n",
      "user_id            0\n",
      "event_dt           0\n",
      "event_name         0\n",
      "details       377577\n",
      "dtype: int64\n",
      "Количество дубликатов: 0\n",
      "\n",
      "Количество yникальныx значений столбца user_id : 58703\n",
      "Уникальные значения столбца user_id :\n",
      "['0001710F4DDB1D1B' '000199F1887AE5E6' '0002499E372175C7' ...\n",
      " 'FFF91B6C5431F375' 'FFFAB034A09DCC28' 'FFFFE36C0F6E92DF']\n",
      "\n",
      "Количество yникальныx значений столбца event_dt : 267268\n",
      "Уникальные значения столбца event_dt :\n",
      "['2020-12-07 00:00:33' '2020-12-07 00:00:34' '2020-12-07 00:00:35' ...\n",
      " '2020-12-30 23:02:44' '2020-12-30 23:36:30' '2020-12-30 23:36:33']\n",
      "\n",
      "Количество yникальныx значений столбца event_name : 4\n",
      "Уникальные значения столбца event_name :\n",
      "['login' 'product_cart' 'product_page' 'purchase']\n",
      "\n",
      "Количество yникальныx значений столбца details : 4\n",
      "Уникальные значения столбца details :\n",
      "[  4.99   9.99  99.99 499.99    nan]\n",
      "\n"
     ]
    }
   ],
   "source": [
    "data_info(events)"
   ]
  },
  {
   "cell_type": "markdown",
   "id": "6027bbb8",
   "metadata": {},
   "source": [
    "Таблица `events` хранит 4 столбца:\n",
    " - 58703 уникальных идентификатора пользователей;\n",
    " -  дату и время события;\n",
    " - 4 события ('purchase'-покупка, 'product_cart'-корзина, 'product_page'-страница товара, 'login'-страница входа);\n",
    " - 4 вида дополнительныx данные о событии. Судя по всему только для  purchase здесь хранится стоимость покупки в долларах.\n",
    " \n",
    "Собития проходили с 7 по 30 декабря 2020 года"
   ]
  },
  {
   "cell_type": "markdown",
   "id": "67fd3029",
   "metadata": {},
   "source": [
    "Посмотрим, есть ли какие-либо доаолнительные данные для других событий"
   ]
  },
  {
   "cell_type": "code",
   "execution_count": 7,
   "id": "7a0e538c",
   "metadata": {},
   "outputs": [
    {
     "data": {
      "text/html": [
       "<div>\n",
       "<style scoped>\n",
       "    .dataframe tbody tr th:only-of-type {\n",
       "        vertical-align: middle;\n",
       "    }\n",
       "\n",
       "    .dataframe tbody tr th {\n",
       "        vertical-align: top;\n",
       "    }\n",
       "\n",
       "    .dataframe thead tr th {\n",
       "        text-align: left;\n",
       "    }\n",
       "\n",
       "    .dataframe thead tr:last-of-type th {\n",
       "        text-align: right;\n",
       "    }\n",
       "</style>\n",
       "<table border=\"1\" class=\"dataframe\">\n",
       "  <thead>\n",
       "    <tr>\n",
       "      <th></th>\n",
       "      <th colspan=\"2\" halign=\"left\">details</th>\n",
       "      <th>event_name</th>\n",
       "    </tr>\n",
       "    <tr>\n",
       "      <th></th>\n",
       "      <th>nunique</th>\n",
       "      <th>count</th>\n",
       "      <th>count</th>\n",
       "    </tr>\n",
       "    <tr>\n",
       "      <th>event_name</th>\n",
       "      <th></th>\n",
       "      <th></th>\n",
       "      <th></th>\n",
       "    </tr>\n",
       "  </thead>\n",
       "  <tbody>\n",
       "    <tr>\n",
       "      <th>login</th>\n",
       "      <td>0</td>\n",
       "      <td>0</td>\n",
       "      <td>189552</td>\n",
       "    </tr>\n",
       "    <tr>\n",
       "      <th>product_cart</th>\n",
       "      <td>0</td>\n",
       "      <td>0</td>\n",
       "      <td>62462</td>\n",
       "    </tr>\n",
       "    <tr>\n",
       "      <th>product_page</th>\n",
       "      <td>0</td>\n",
       "      <td>0</td>\n",
       "      <td>125563</td>\n",
       "    </tr>\n",
       "    <tr>\n",
       "      <th>purchase</th>\n",
       "      <td>4</td>\n",
       "      <td>62740</td>\n",
       "      <td>62740</td>\n",
       "    </tr>\n",
       "  </tbody>\n",
       "</table>\n",
       "</div>"
      ],
      "text/plain": [
       "             details        event_name\n",
       "             nunique  count      count\n",
       "event_name                            \n",
       "login              0      0     189552\n",
       "product_cart       0      0      62462\n",
       "product_page       0      0     125563\n",
       "purchase           4  62740      62740"
      ]
     },
     "metadata": {},
     "output_type": "display_data"
    }
   ],
   "source": [
    "# сформируем таблицу с количеством уникальных значений details, их количеством и количеством записей в event_name\n",
    "display(events.groupby('event_name').agg({'details':['nunique', 'count'], 'event_name':'count'}))"
   ]
  },
  {
   "cell_type": "markdown",
   "id": "fbdcbfe1",
   "metadata": {},
   "source": [
    "Нет, только для покупок указана их стоимость, причем все строки заполнены.\n",
    "Дубликатов в данных нет."
   ]
  },
  {
   "cell_type": "markdown",
   "id": "88efe614",
   "metadata": {},
   "source": [
    "### Таблица participants"
   ]
  },
  {
   "cell_type": "code",
   "execution_count": 8,
   "id": "05dbd0e1",
   "metadata": {
    "scrolled": false
   },
   "outputs": [
    {
     "data": {
      "text/html": [
       "<div>\n",
       "<style scoped>\n",
       "    .dataframe tbody tr th:only-of-type {\n",
       "        vertical-align: middle;\n",
       "    }\n",
       "\n",
       "    .dataframe tbody tr th {\n",
       "        vertical-align: top;\n",
       "    }\n",
       "\n",
       "    .dataframe thead th {\n",
       "        text-align: right;\n",
       "    }\n",
       "</style>\n",
       "<table border=\"1\" class=\"dataframe\">\n",
       "  <thead>\n",
       "    <tr style=\"text-align: right;\">\n",
       "      <th></th>\n",
       "      <th>user_id</th>\n",
       "      <th>group</th>\n",
       "      <th>ab_test</th>\n",
       "    </tr>\n",
       "  </thead>\n",
       "  <tbody>\n",
       "    <tr>\n",
       "      <th>0</th>\n",
       "      <td>D1ABA3E2887B6A73</td>\n",
       "      <td>A</td>\n",
       "      <td>recommender_system_test</td>\n",
       "    </tr>\n",
       "    <tr>\n",
       "      <th>1</th>\n",
       "      <td>A7A3664BD6242119</td>\n",
       "      <td>A</td>\n",
       "      <td>recommender_system_test</td>\n",
       "    </tr>\n",
       "    <tr>\n",
       "      <th>2</th>\n",
       "      <td>DABC14FDDFADD29E</td>\n",
       "      <td>A</td>\n",
       "      <td>recommender_system_test</td>\n",
       "    </tr>\n",
       "    <tr>\n",
       "      <th>3</th>\n",
       "      <td>04988C5DF189632E</td>\n",
       "      <td>A</td>\n",
       "      <td>recommender_system_test</td>\n",
       "    </tr>\n",
       "    <tr>\n",
       "      <th>4</th>\n",
       "      <td>482F14783456D21B</td>\n",
       "      <td>B</td>\n",
       "      <td>recommender_system_test</td>\n",
       "    </tr>\n",
       "  </tbody>\n",
       "</table>\n",
       "</div>"
      ],
      "text/plain": [
       "            user_id group                  ab_test\n",
       "0  D1ABA3E2887B6A73     A  recommender_system_test\n",
       "1  A7A3664BD6242119     A  recommender_system_test\n",
       "2  DABC14FDDFADD29E     A  recommender_system_test\n",
       "3  04988C5DF189632E     A  recommender_system_test\n",
       "4  482F14783456D21B     B  recommender_system_test"
      ]
     },
     "metadata": {},
     "output_type": "display_data"
    },
    {
     "name": "stdout",
     "output_type": "stream",
     "text": [
      "\n",
      "Информация о таблице:\n",
      "\n",
      "<class 'pandas.core.frame.DataFrame'>\n",
      "RangeIndex: 18268 entries, 0 to 18267\n",
      "Data columns (total 3 columns):\n",
      " #   Column   Non-Null Count  Dtype \n",
      "---  ------   --------------  ----- \n",
      " 0   user_id  18268 non-null  object\n",
      " 1   group    18268 non-null  object\n",
      " 2   ab_test  18268 non-null  object\n",
      "dtypes: object(3)\n",
      "memory usage: 428.3+ KB\n",
      "None\n",
      "\n",
      "Пропусков в данных нет\n",
      "Количество дубликатов: 0\n",
      "\n",
      "Количество yникальныx значений столбца user_id : 16666\n",
      "Уникальные значения столбца user_id :\n",
      "['0002CE61FF2C4011' '000ABE35EE11412F' '001064FEAAB631A1' ...\n",
      " 'FFEFC0E55C1CCD4F' 'FFF28D02B1EACBE1' 'FFF58BC33966EB51']\n",
      "\n",
      "Количество yникальныx значений столбца group : 2\n",
      "Уникальные значения столбца group :\n",
      "['A' 'B']\n",
      "\n",
      "Количество yникальныx значений столбца ab_test : 2\n",
      "Уникальные значения столбца ab_test :\n",
      "['interface_eu_test' 'recommender_system_test']\n",
      "\n"
     ]
    }
   ],
   "source": [
    "data_info(participants)"
   ]
  },
  {
   "cell_type": "markdown",
   "id": "1c98f019",
   "metadata": {},
   "source": [
    "Таблица `participants` содержит 3 столбца:\n",
    " - 16666 уникальных идентификатора пользователей;\n",
    " - 2 группы пользователей A и B\n",
    " - 2 названия теста;\n",
    " \n",
    " Пропусков и дубликатов в двнных нет."
   ]
  },
  {
   "cell_type": "markdown",
   "id": "510b0aa2",
   "metadata": {},
   "source": [
    "## Корректность проведения теста"
   ]
  },
  {
   "cell_type": "markdown",
   "id": "fb30ec84",
   "metadata": {},
   "source": [
    "В данных присутствуют даты различных видов событий, их необходимо привести к удобному формату.\n",
    "Пропуски есть только в таблице `events` в столбце с деталями, где только для покупок обозначена их стоимость."
   ]
  },
  {
   "cell_type": "code",
   "execution_count": 9,
   "id": "31194b49",
   "metadata": {},
   "outputs": [],
   "source": [
    "# преобразуем дату во всех таблицах\n",
    "marketing_events['start_dt'] = pd.to_datetime(marketing_events['start_dt'], format='%Y-%m-%d')\n",
    "marketing_events['finish_dt'] = pd.to_datetime(marketing_events['finish_dt'], format='%Y-%m-%d')\n",
    "new_users['first_date'] = pd.to_datetime(new_users['first_date'], format='%Y-%m-%d')\n",
    "events['event_dt'] = pd.to_datetime(events['event_dt'], format='%Y-%m-%dT%H:%M:%S')"
   ]
  },
  {
   "cell_type": "markdown",
   "id": "fd84894e",
   "metadata": {},
   "source": [
    "- **Название теста:** `recommender_system_test`"
   ]
  },
  {
   "cell_type": "code",
   "execution_count": 10,
   "id": "3e2ff05d",
   "metadata": {},
   "outputs": [
    {
     "name": "stdout",
     "output_type": "stream",
     "text": [
      "Название теста: ['recommender_system_test' 'interface_eu_test']\n",
      "Процент пользователей теста recommender_system_test 36.68\n"
     ]
    }
   ],
   "source": [
    "print('Название теста:', participants['ab_test'].unique())\n",
    "print('Процент пользователей теста recommender_system_test',\n",
    "      round(participants[participants['ab_test']=='recommender_system_test']['ab_test'].count()/\n",
    "     participants['ab_test'].count()*100,2))"
   ]
  },
  {
   "cell_type": "markdown",
   "id": "bcbd45fb",
   "metadata": {},
   "source": [
    "Посмотрим есть ли пользователи, которые попали сразу в оба теста"
   ]
  },
  {
   "cell_type": "code",
   "execution_count": 11,
   "id": "3a01ae17",
   "metadata": {},
   "outputs": [
    {
     "name": "stdout",
     "output_type": "stream",
     "text": [
      "Доля пользователей, попавшая в оба теста: 9.6%\n",
      "Доля пользователей, попавшая в обе группы: 4.7%\n",
      "Доля пользователей, попавшая в обе группы теста recommender_system_test : 0.0%\n",
      "Доля пользователей, попавшая в обе группы теста interface_eu_test : 0.0%\n"
     ]
    }
   ],
   "source": [
    "# проверяем наличие пользователей попавших сразу в оба теста \n",
    "print('Доля пользователей, попавшая в оба теста:',\n",
    "      '{0:.1%}'.format(participants\n",
    "                       .groupby('user_id')\n",
    "                       .agg({'ab_test' : 'nunique'})\n",
    "                       .query('ab_test > 1')['ab_test'].count()\n",
    "                       /participants['user_id'].nunique()))\n",
    "\n",
    "# проверяем наличие пользователей попавших сразу в обе группы \n",
    "print('Доля пользователей, попавшая в обе группы:',\n",
    "      '{0:.1%}'.format(participants\n",
    "                       .groupby('user_id')\n",
    "                       .agg({'group' : 'nunique'})\n",
    "                       .query('group > 1')['group'].count()\n",
    "                       /participants['user_id'].nunique()))\n",
    "\n",
    "# проверяем наличие пользователей попавших сразу в обе группы в разных тестах\n",
    "for i in participants['ab_test'].unique().tolist():\n",
    "    print('Доля пользователей, попавшая в обе группы теста',i, ':',\n",
    "          '{0:.1%}'.format(participants[participants['ab_test'] == i]\n",
    "                           .groupby('user_id')\n",
    "                           .agg({'group' : 'nunique'})\n",
    "                           .query('group > 1')['group'].count()\n",
    "                           /participants['user_id'].nunique()))"
   ]
  },
  {
   "cell_type": "markdown",
   "id": "d5f29022",
   "metadata": {},
   "source": [
    "9,6 % пользователей участвовали сразу в двух экспериментах. По отдельности пользователи не попали в разные экспериментальные группы, однако если смотреть в целом, то таких пользователей 4,7%. Мы не знаем назначение этого теста и распределение контрольных групп внутри него. \n",
    "Будем считать, что на дальнейшие исследования этот факт не повлияет."
   ]
  },
  {
   "cell_type": "code",
   "execution_count": 12,
   "id": "124a8fc4",
   "metadata": {},
   "outputs": [],
   "source": [
    "# оставляем пользователей, которые участвовали в интересующем нас тесте.\n",
    "participants_rst = participants.loc[participants['ab_test']=='recommender_system_test']"
   ]
  },
  {
   "cell_type": "code",
   "execution_count": 13,
   "id": "1f09f52b",
   "metadata": {},
   "outputs": [
    {
     "name": "stdout",
     "output_type": "stream",
     "text": [
      "Количество пользователей в таблице participants_rst: 6701\n"
     ]
    }
   ],
   "source": [
    "print('Количество пользователей в таблице participants_rst:', participants_rst.shape[0])"
   ]
  },
  {
   "cell_type": "markdown",
   "id": "52660e54",
   "metadata": {},
   "source": [
    "- **группы: А — контрольная, B — новая платёжная воронка;**\n",
    "\n",
    "\n",
    "В тесте действительно только две группы, мы убедились в этом на шаге знакомства с данными"
   ]
  },
  {
   "cell_type": "markdown",
   "id": "65be74f0",
   "metadata": {},
   "source": [
    "- **дата запуска: 2020-12-07;**\n",
    "- **дата остановки: 2021-01-04;**"
   ]
  },
  {
   "cell_type": "code",
   "execution_count": 14,
   "id": "b3482e73",
   "metadata": {},
   "outputs": [
    {
     "name": "stdout",
     "output_type": "stream",
     "text": [
      "Минимальная дата: 2020-12-07 00:00:33\n",
      "Максимальная дата: 2020-12-30 23:36:33\n"
     ]
    }
   ],
   "source": [
    "print('Минимальная дата:', events['event_dt'].min())\n",
    "print('Максимальная дата:', events['event_dt'].max())"
   ]
  },
  {
   "cell_type": "markdown",
   "id": "dd722ee9",
   "metadata": {},
   "source": [
    "Минимальная дата совпадает с датой запуска, однако дата остановки сильно завышена. Данные с 31 декабря 2020 по 4 января 2021 отсутсвуют. Данный факт может пагубно сказаться на результатах исследования, т.к. данные присутсвуют не за весь период."
   ]
  },
  {
   "cell_type": "markdown",
   "id": "a8cf3d6b",
   "metadata": {},
   "source": [
    "- **дата остановки набора новых пользователей: 2020-12-21;**"
   ]
  },
  {
   "cell_type": "markdown",
   "id": "f9e8107b",
   "metadata": {},
   "source": [
    "В таблице participants остались только интересующие нас пользователи. Начнем создавать финальную таблицу путем присоединения таблицы new_users к participants"
   ]
  },
  {
   "cell_type": "code",
   "execution_count": 15,
   "id": "c55bd8c0",
   "metadata": {},
   "outputs": [],
   "source": [
    "df = participants_rst.merge(new_users, on= 'user_id', how='inner')"
   ]
  },
  {
   "cell_type": "markdown",
   "id": "ad09e9eb",
   "metadata": {},
   "source": [
    "Проверим, что новых пользователей перестали набирать 21 декабря. "
   ]
  },
  {
   "cell_type": "code",
   "execution_count": 16,
   "id": "40b820a8",
   "metadata": {},
   "outputs": [
    {
     "name": "stdout",
     "output_type": "stream",
     "text": [
      "2020-12-07 00:00:00\n",
      "2020-12-21 00:00:00\n"
     ]
    }
   ],
   "source": [
    "print(df['first_date'].min())\n",
    "print(df['first_date'].max())"
   ]
  },
  {
   "cell_type": "markdown",
   "id": "48f15c9c",
   "metadata": {},
   "source": [
    "Действительно новых пользователей перестали набирать 21 декабря, что соответствует ТЗ."
   ]
  },
  {
   "cell_type": "markdown",
   "id": "9b8b272c",
   "metadata": {},
   "source": [
    "- **аудитория: в тест должно быть отобрано 15% новых пользователей из региона EU;**"
   ]
  },
  {
   "cell_type": "code",
   "execution_count": 17,
   "id": "dfef72fe",
   "metadata": {},
   "outputs": [],
   "source": [
    "# Отделим пользователей таблицы new_users зарегистрировавшихся после 21 декабря\n",
    "new_users_rst = new_users.loc[new_users['first_date']<='2020-12-21']"
   ]
  },
  {
   "cell_type": "code",
   "execution_count": 18,
   "id": "f70b0a5e",
   "metadata": {},
   "outputs": [
    {
     "name": "stdout",
     "output_type": "stream",
     "text": [
      "Доля пользователей из Европы, попавшая в тест: 15.0%\n"
     ]
    }
   ],
   "source": [
    "print('Доля пользователей из Европы, попавшая в тест:',\n",
    "      '{0:.1%}'.format( df[df['region']=='EU']['user_id'].nunique()\n",
    "                       /new_users_rst[new_users_rst['region']=='EU']['region'].count()))"
   ]
  },
  {
   "cell_type": "markdown",
   "id": "06d7817b",
   "metadata": {},
   "source": [
    "Процент пользователей из Европы попавших в тест равен 15%, так что будем считать, что пункт ТЗ выполнен."
   ]
  },
  {
   "cell_type": "markdown",
   "id": "4ba6c97c",
   "metadata": {},
   "source": [
    "- **ожидаемое количество участников теста: 6000.**"
   ]
  },
  {
   "cell_type": "code",
   "execution_count": 19,
   "id": "5eb34bcf",
   "metadata": {},
   "outputs": [
    {
     "name": "stdout",
     "output_type": "stream",
     "text": [
      "Количество участников теста: 6701\n"
     ]
    }
   ],
   "source": [
    "print('Количество участников теста:', df.shape[0])"
   ]
  },
  {
   "cell_type": "markdown",
   "id": "71813853",
   "metadata": {},
   "source": [
    "Количество участников теста больше ожидаемого."
   ]
  },
  {
   "cell_type": "markdown",
   "id": "33d95a46",
   "metadata": {},
   "source": [
    " - **В техническом задании сказано, что время за которое пользователи дожны улучшить свои метрики 14 дней.**\n",
    " \n",
    " Для каждого пользователя следует удалить события после 14 дней регистрации.\n",
    " \n",
    " Для начала добавим события к итоговой таблице."
   ]
  },
  {
   "cell_type": "code",
   "execution_count": 20,
   "id": "7a508d2c",
   "metadata": {},
   "outputs": [
    {
     "name": "stdout",
     "output_type": "stream",
     "text": [
      "Количество уникальных событий: 27724\n"
     ]
    }
   ],
   "source": [
    "df = df.merge(events, on= 'user_id', how='left')\n",
    "print('Количество уникальных событий:', df.shape[0])"
   ]
  },
  {
   "cell_type": "markdown",
   "id": "9a0ab44d",
   "metadata": {},
   "source": [
    "Посмотрим как распределились пользователи по группам"
   ]
  },
  {
   "cell_type": "code",
   "execution_count": 21,
   "id": "98bb138d",
   "metadata": {},
   "outputs": [
    {
     "data": {
      "text/html": [
       "<div>\n",
       "<style scoped>\n",
       "    .dataframe tbody tr th:only-of-type {\n",
       "        vertical-align: middle;\n",
       "    }\n",
       "\n",
       "    .dataframe tbody tr th {\n",
       "        vertical-align: top;\n",
       "    }\n",
       "\n",
       "    .dataframe thead th {\n",
       "        text-align: right;\n",
       "    }\n",
       "</style>\n",
       "<table border=\"1\" class=\"dataframe\">\n",
       "  <thead>\n",
       "    <tr style=\"text-align: right;\">\n",
       "      <th></th>\n",
       "      <th>user_id</th>\n",
       "    </tr>\n",
       "    <tr>\n",
       "      <th>group</th>\n",
       "      <th></th>\n",
       "    </tr>\n",
       "  </thead>\n",
       "  <tbody>\n",
       "    <tr>\n",
       "      <th>A</th>\n",
       "      <td>3824</td>\n",
       "    </tr>\n",
       "    <tr>\n",
       "      <th>B</th>\n",
       "      <td>2877</td>\n",
       "    </tr>\n",
       "  </tbody>\n",
       "</table>\n",
       "</div>"
      ],
      "text/plain": [
       "       user_id\n",
       "group         \n",
       "A         3824\n",
       "B         2877"
      ]
     },
     "metadata": {},
     "output_type": "display_data"
    }
   ],
   "source": [
    "# сгруппируем таблицу по группам и выведем уникальное количество пользователей\n",
    "display(df.groupby('group').agg({'user_id':'nunique'}))"
   ]
  },
  {
   "cell_type": "markdown",
   "id": "aab0ff49",
   "metadata": {},
   "source": [
    "Большее количество пользователей в контрольной группе, чем в новой платёжной воронке."
   ]
  },
  {
   "cell_type": "code",
   "execution_count": 22,
   "id": "96ca9022",
   "metadata": {
    "scrolled": true
   },
   "outputs": [
    {
     "name": "stdout",
     "output_type": "stream",
     "text": [
      "<class 'pandas.core.frame.DataFrame'>\n",
      "Int64Index: 27724 entries, 0 to 27723\n",
      "Data columns (total 9 columns):\n",
      " #   Column      Non-Null Count  Dtype         \n",
      "---  ------      --------------  -----         \n",
      " 0   user_id     27724 non-null  object        \n",
      " 1   group       27724 non-null  object        \n",
      " 2   ab_test     27724 non-null  object        \n",
      " 3   first_date  27724 non-null  datetime64[ns]\n",
      " 4   region      27724 non-null  object        \n",
      " 5   device      27724 non-null  object        \n",
      " 6   event_dt    24698 non-null  datetime64[ns]\n",
      " 7   event_name  24698 non-null  object        \n",
      " 8   details     3331 non-null   float64       \n",
      "dtypes: datetime64[ns](2), float64(1), object(6)\n",
      "memory usage: 2.1+ MB\n"
     ]
    },
    {
     "data": {
      "text/plain": [
       "None"
      ]
     },
     "metadata": {},
     "output_type": "display_data"
    }
   ],
   "source": [
    "# выведем на экран информацию о получившейся таблице\n",
    "display(df.info())"
   ]
  },
  {
   "cell_type": "markdown",
   "id": "66a1a348",
   "metadata": {},
   "source": [
    "В таблице обнаружились пользователи для которых нет событий.\n",
    "Посмотрим, что это за пользователи с нулевыми событиями и к каким группам теста они пренадлежат."
   ]
  },
  {
   "cell_type": "code",
   "execution_count": 23,
   "id": "7160bfea",
   "metadata": {},
   "outputs": [
    {
     "data": {
      "text/html": [
       "<div>\n",
       "<style scoped>\n",
       "    .dataframe tbody tr th:only-of-type {\n",
       "        vertical-align: middle;\n",
       "    }\n",
       "\n",
       "    .dataframe tbody tr th {\n",
       "        vertical-align: top;\n",
       "    }\n",
       "\n",
       "    .dataframe thead th {\n",
       "        text-align: right;\n",
       "    }\n",
       "</style>\n",
       "<table border=\"1\" class=\"dataframe\">\n",
       "  <thead>\n",
       "    <tr style=\"text-align: right;\">\n",
       "      <th></th>\n",
       "      <th>user_id</th>\n",
       "    </tr>\n",
       "    <tr>\n",
       "      <th>group</th>\n",
       "      <th></th>\n",
       "    </tr>\n",
       "  </thead>\n",
       "  <tbody>\n",
       "    <tr>\n",
       "      <th>A</th>\n",
       "      <td>1077</td>\n",
       "    </tr>\n",
       "    <tr>\n",
       "      <th>B</th>\n",
       "      <td>1949</td>\n",
       "    </tr>\n",
       "  </tbody>\n",
       "</table>\n",
       "</div>"
      ],
      "text/plain": [
       "       user_id\n",
       "group         \n",
       "A         1077\n",
       "B         1949"
      ]
     },
     "metadata": {},
     "output_type": "display_data"
    }
   ],
   "source": [
    "# оставляем в таблице только нулевые события, группируем по группам и узнаем уникальное количество пользователей\n",
    "display(df[df['event_dt'].isnull()].groupby('group').agg({'user_id':'nunique'}))"
   ]
  },
  {
   "cell_type": "markdown",
   "id": "99ed58a8",
   "metadata": {},
   "source": [
    "Пользователи без событий относятся к обеим группам. Большая часть таких пользователей из новой платёжной воронки, которая итак обладает дефицитом пользователей по сравнению с контрольной группой. Однако, в дальнейших исследованиях такие пользователи не будут участвовать при подсчете ступеней воронки событий, поэтому оставим в данных только пользователей, у которых есть события."
   ]
  },
  {
   "cell_type": "code",
   "execution_count": 24,
   "id": "425b0052",
   "metadata": {},
   "outputs": [],
   "source": [
    "# удаляет нулевые события\n",
    "df = df.dropna(subset=['event_dt'])"
   ]
  },
  {
   "cell_type": "code",
   "execution_count": 25,
   "id": "8e601f83",
   "metadata": {},
   "outputs": [
    {
     "name": "stdout",
     "output_type": "stream",
     "text": [
      "<class 'pandas.core.frame.DataFrame'>\n",
      "Int64Index: 24698 entries, 0 to 27723\n",
      "Data columns (total 9 columns):\n",
      " #   Column      Non-Null Count  Dtype         \n",
      "---  ------      --------------  -----         \n",
      " 0   user_id     24698 non-null  object        \n",
      " 1   group       24698 non-null  object        \n",
      " 2   ab_test     24698 non-null  object        \n",
      " 3   first_date  24698 non-null  datetime64[ns]\n",
      " 4   region      24698 non-null  object        \n",
      " 5   device      24698 non-null  object        \n",
      " 6   event_dt    24698 non-null  datetime64[ns]\n",
      " 7   event_name  24698 non-null  object        \n",
      " 8   details     3331 non-null   float64       \n",
      "dtypes: datetime64[ns](2), float64(1), object(6)\n",
      "memory usage: 1.9+ MB\n"
     ]
    }
   ],
   "source": [
    "df.info()"
   ]
  },
  {
   "cell_type": "markdown",
   "id": "15b16683",
   "metadata": {},
   "source": [
    "Теперь в данных остались пропуски только в столбце details"
   ]
  },
  {
   "cell_type": "code",
   "execution_count": 26,
   "id": "249d071f",
   "metadata": {},
   "outputs": [
    {
     "data": {
      "text/html": [
       "<div>\n",
       "<style scoped>\n",
       "    .dataframe tbody tr th:only-of-type {\n",
       "        vertical-align: middle;\n",
       "    }\n",
       "\n",
       "    .dataframe tbody tr th {\n",
       "        vertical-align: top;\n",
       "    }\n",
       "\n",
       "    .dataframe thead th {\n",
       "        text-align: right;\n",
       "    }\n",
       "</style>\n",
       "<table border=\"1\" class=\"dataframe\">\n",
       "  <thead>\n",
       "    <tr style=\"text-align: right;\">\n",
       "      <th></th>\n",
       "      <th>user_id</th>\n",
       "      <th>group</th>\n",
       "      <th>ab_test</th>\n",
       "      <th>first_date</th>\n",
       "      <th>region</th>\n",
       "      <th>device</th>\n",
       "      <th>event_dt</th>\n",
       "      <th>event_name</th>\n",
       "      <th>details</th>\n",
       "      <th>time_delta</th>\n",
       "    </tr>\n",
       "  </thead>\n",
       "  <tbody>\n",
       "    <tr>\n",
       "      <th>1</th>\n",
       "      <td>D1ABA3E2887B6A73</td>\n",
       "      <td>A</td>\n",
       "      <td>recommender_system_test</td>\n",
       "      <td>2020-12-07</td>\n",
       "      <td>EU</td>\n",
       "      <td>PC</td>\n",
       "      <td>2020-12-25 00:04:56</td>\n",
       "      <td>purchase</td>\n",
       "      <td>4.99</td>\n",
       "      <td>18</td>\n",
       "    </tr>\n",
       "    <tr>\n",
       "      <th>3</th>\n",
       "      <td>D1ABA3E2887B6A73</td>\n",
       "      <td>A</td>\n",
       "      <td>recommender_system_test</td>\n",
       "      <td>2020-12-07</td>\n",
       "      <td>EU</td>\n",
       "      <td>PC</td>\n",
       "      <td>2020-12-25 00:04:57</td>\n",
       "      <td>product_cart</td>\n",
       "      <td>NaN</td>\n",
       "      <td>18</td>\n",
       "    </tr>\n",
       "    <tr>\n",
       "      <th>5</th>\n",
       "      <td>D1ABA3E2887B6A73</td>\n",
       "      <td>A</td>\n",
       "      <td>recommender_system_test</td>\n",
       "      <td>2020-12-07</td>\n",
       "      <td>EU</td>\n",
       "      <td>PC</td>\n",
       "      <td>2020-12-25 00:04:57</td>\n",
       "      <td>product_page</td>\n",
       "      <td>NaN</td>\n",
       "      <td>18</td>\n",
       "    </tr>\n",
       "    <tr>\n",
       "      <th>7</th>\n",
       "      <td>D1ABA3E2887B6A73</td>\n",
       "      <td>A</td>\n",
       "      <td>recommender_system_test</td>\n",
       "      <td>2020-12-07</td>\n",
       "      <td>EU</td>\n",
       "      <td>PC</td>\n",
       "      <td>2020-12-25 00:04:56</td>\n",
       "      <td>login</td>\n",
       "      <td>NaN</td>\n",
       "      <td>18</td>\n",
       "    </tr>\n",
       "    <tr>\n",
       "      <th>56</th>\n",
       "      <td>92CB588012C10D3D</td>\n",
       "      <td>A</td>\n",
       "      <td>recommender_system_test</td>\n",
       "      <td>2020-12-09</td>\n",
       "      <td>EU</td>\n",
       "      <td>PC</td>\n",
       "      <td>2020-12-25 18:11:49</td>\n",
       "      <td>product_page</td>\n",
       "      <td>NaN</td>\n",
       "      <td>16</td>\n",
       "    </tr>\n",
       "    <tr>\n",
       "      <th>...</th>\n",
       "      <td>...</td>\n",
       "      <td>...</td>\n",
       "      <td>...</td>\n",
       "      <td>...</td>\n",
       "      <td>...</td>\n",
       "      <td>...</td>\n",
       "      <td>...</td>\n",
       "      <td>...</td>\n",
       "      <td>...</td>\n",
       "      <td>...</td>\n",
       "    </tr>\n",
       "    <tr>\n",
       "      <th>27689</th>\n",
       "      <td>053FB26D6D49EDDC</td>\n",
       "      <td>A</td>\n",
       "      <td>recommender_system_test</td>\n",
       "      <td>2020-12-10</td>\n",
       "      <td>N.America</td>\n",
       "      <td>Android</td>\n",
       "      <td>2020-12-25 00:27:11</td>\n",
       "      <td>purchase</td>\n",
       "      <td>4.99</td>\n",
       "      <td>15</td>\n",
       "    </tr>\n",
       "    <tr>\n",
       "      <th>27692</th>\n",
       "      <td>053FB26D6D49EDDC</td>\n",
       "      <td>A</td>\n",
       "      <td>recommender_system_test</td>\n",
       "      <td>2020-12-10</td>\n",
       "      <td>N.America</td>\n",
       "      <td>Android</td>\n",
       "      <td>2020-12-25 00:27:11</td>\n",
       "      <td>product_page</td>\n",
       "      <td>NaN</td>\n",
       "      <td>15</td>\n",
       "    </tr>\n",
       "    <tr>\n",
       "      <th>27695</th>\n",
       "      <td>053FB26D6D49EDDC</td>\n",
       "      <td>A</td>\n",
       "      <td>recommender_system_test</td>\n",
       "      <td>2020-12-10</td>\n",
       "      <td>N.America</td>\n",
       "      <td>Android</td>\n",
       "      <td>2020-12-25 00:27:11</td>\n",
       "      <td>login</td>\n",
       "      <td>NaN</td>\n",
       "      <td>15</td>\n",
       "    </tr>\n",
       "    <tr>\n",
       "      <th>27705</th>\n",
       "      <td>29C92313A98B1176</td>\n",
       "      <td>B</td>\n",
       "      <td>recommender_system_test</td>\n",
       "      <td>2020-12-07</td>\n",
       "      <td>APAC</td>\n",
       "      <td>Android</td>\n",
       "      <td>2020-12-28 01:26:08</td>\n",
       "      <td>product_page</td>\n",
       "      <td>NaN</td>\n",
       "      <td>21</td>\n",
       "    </tr>\n",
       "    <tr>\n",
       "      <th>27708</th>\n",
       "      <td>29C92313A98B1176</td>\n",
       "      <td>B</td>\n",
       "      <td>recommender_system_test</td>\n",
       "      <td>2020-12-07</td>\n",
       "      <td>APAC</td>\n",
       "      <td>Android</td>\n",
       "      <td>2020-12-28 01:26:08</td>\n",
       "      <td>login</td>\n",
       "      <td>NaN</td>\n",
       "      <td>21</td>\n",
       "    </tr>\n",
       "  </tbody>\n",
       "</table>\n",
       "<p>628 rows × 10 columns</p>\n",
       "</div>"
      ],
      "text/plain": [
       "                user_id group                  ab_test first_date     region  \\\n",
       "1      D1ABA3E2887B6A73     A  recommender_system_test 2020-12-07         EU   \n",
       "3      D1ABA3E2887B6A73     A  recommender_system_test 2020-12-07         EU   \n",
       "5      D1ABA3E2887B6A73     A  recommender_system_test 2020-12-07         EU   \n",
       "7      D1ABA3E2887B6A73     A  recommender_system_test 2020-12-07         EU   \n",
       "56     92CB588012C10D3D     A  recommender_system_test 2020-12-09         EU   \n",
       "...                 ...   ...                      ...        ...        ...   \n",
       "27689  053FB26D6D49EDDC     A  recommender_system_test 2020-12-10  N.America   \n",
       "27692  053FB26D6D49EDDC     A  recommender_system_test 2020-12-10  N.America   \n",
       "27695  053FB26D6D49EDDC     A  recommender_system_test 2020-12-10  N.America   \n",
       "27705  29C92313A98B1176     B  recommender_system_test 2020-12-07       APAC   \n",
       "27708  29C92313A98B1176     B  recommender_system_test 2020-12-07       APAC   \n",
       "\n",
       "        device            event_dt    event_name  details  time_delta  \n",
       "1           PC 2020-12-25 00:04:56      purchase     4.99          18  \n",
       "3           PC 2020-12-25 00:04:57  product_cart      NaN          18  \n",
       "5           PC 2020-12-25 00:04:57  product_page      NaN          18  \n",
       "7           PC 2020-12-25 00:04:56         login      NaN          18  \n",
       "56          PC 2020-12-25 18:11:49  product_page      NaN          16  \n",
       "...        ...                 ...           ...      ...         ...  \n",
       "27689  Android 2020-12-25 00:27:11      purchase     4.99          15  \n",
       "27692  Android 2020-12-25 00:27:11  product_page      NaN          15  \n",
       "27695  Android 2020-12-25 00:27:11         login      NaN          15  \n",
       "27705  Android 2020-12-28 01:26:08  product_page      NaN          21  \n",
       "27708  Android 2020-12-28 01:26:08         login      NaN          21  \n",
       "\n",
       "[628 rows x 10 columns]"
      ]
     },
     "execution_count": 26,
     "metadata": {},
     "output_type": "execute_result"
    }
   ],
   "source": [
    "# почситаем сколько времени прошло с момента регистрации до последнего события\n",
    "df['time_delta'] = (df['event_dt'] - df['first_date']).dt.days\n",
    "df.query('time_delta >14')"
   ]
  },
  {
   "cell_type": "markdown",
   "id": "1579f5e1",
   "metadata": {},
   "source": [
    "Существует 628 событий выходящих за рамки допустимого времени. Оставим в таблице только события до 14 дня после регистрации вклчительно."
   ]
  },
  {
   "cell_type": "code",
   "execution_count": 27,
   "id": "1dafd07d",
   "metadata": {},
   "outputs": [
    {
     "name": "stdout",
     "output_type": "stream",
     "text": [
      "Количество уникальных событий после удаления событий после порогового лимита времени: 24070\n"
     ]
    }
   ],
   "source": [
    "# удаляем лишние события и столбец timedelta\n",
    "df = df.query('time_delta < 15').drop('time_delta', axis=1)\n",
    "print('Количество уникальных событий после удаления событий после порогового лимита времени:', df.shape[0])"
   ]
  },
  {
   "cell_type": "markdown",
   "id": "d0107986",
   "metadata": {},
   "source": [
    " - **Влияние маркетинговых событий**\n",
    "\n",
    "Имеются данные о проведении теста в период с 7 декабря по  4 января, проверим, если ли маркетинговые акции, проводившиеся в это время."
   ]
  },
  {
   "cell_type": "code",
   "execution_count": 28,
   "id": "6e59a9c2",
   "metadata": {},
   "outputs": [
    {
     "data": {
      "text/html": [
       "<div>\n",
       "<style scoped>\n",
       "    .dataframe tbody tr th:only-of-type {\n",
       "        vertical-align: middle;\n",
       "    }\n",
       "\n",
       "    .dataframe tbody tr th {\n",
       "        vertical-align: top;\n",
       "    }\n",
       "\n",
       "    .dataframe thead th {\n",
       "        text-align: right;\n",
       "    }\n",
       "</style>\n",
       "<table border=\"1\" class=\"dataframe\">\n",
       "  <thead>\n",
       "    <tr style=\"text-align: right;\">\n",
       "      <th></th>\n",
       "      <th>name</th>\n",
       "      <th>regions</th>\n",
       "      <th>start_dt</th>\n",
       "      <th>finish_dt</th>\n",
       "    </tr>\n",
       "  </thead>\n",
       "  <tbody>\n",
       "    <tr>\n",
       "      <th>0</th>\n",
       "      <td>Christmas&amp;New Year Promo</td>\n",
       "      <td>EU, N.America</td>\n",
       "      <td>2020-12-25</td>\n",
       "      <td>2021-01-03</td>\n",
       "    </tr>\n",
       "    <tr>\n",
       "      <th>10</th>\n",
       "      <td>CIS New Year Gift Lottery</td>\n",
       "      <td>CIS</td>\n",
       "      <td>2020-12-30</td>\n",
       "      <td>2021-01-07</td>\n",
       "    </tr>\n",
       "  </tbody>\n",
       "</table>\n",
       "</div>"
      ],
      "text/plain": [
       "                         name        regions   start_dt  finish_dt\n",
       "0    Christmas&New Year Promo  EU, N.America 2020-12-25 2021-01-03\n",
       "10  CIS New Year Gift Lottery            CIS 2020-12-30 2021-01-07"
      ]
     },
     "execution_count": 28,
     "metadata": {},
     "output_type": "execute_result"
    }
   ],
   "source": [
    "marketing_events.query('start_dt < \"2021-01-04\" and finish_dt > \"2020-12-07\"')"
   ]
  },
  {
   "cell_type": "markdown",
   "id": "f6b4b0bf",
   "metadata": {},
   "source": [
    "Таких компаний две.\\\n",
    "CIS New Year Gift Lottery - затрагивает только один день нашего исследования - 30 декабря, тогда как Christmas&New Year Promo, проводившееся в Европе и Северной Америке затрагивает период с 25 по 30 декабря. Это довольно большой промежуток времени, однако данные итак не полные. Будем считать, что события данных рекламных компаний повлияли на пользователей обеих групп одинаково."
   ]
  },
  {
   "cell_type": "markdown",
   "id": "82c53937",
   "metadata": {},
   "source": [
    "- **Распределение пользователей по группам**\n",
    "\n",
    "Посмотрим как распределелились пользователели между двумя группами тестов"
   ]
  },
  {
   "cell_type": "code",
   "execution_count": 29,
   "id": "b9bf014a",
   "metadata": {},
   "outputs": [
    {
     "data": {
      "text/html": [
       "<div>\n",
       "<style scoped>\n",
       "    .dataframe tbody tr th:only-of-type {\n",
       "        vertical-align: middle;\n",
       "    }\n",
       "\n",
       "    .dataframe tbody tr th {\n",
       "        vertical-align: top;\n",
       "    }\n",
       "\n",
       "    .dataframe thead th {\n",
       "        text-align: right;\n",
       "    }\n",
       "</style>\n",
       "<table border=\"1\" class=\"dataframe\">\n",
       "  <thead>\n",
       "    <tr style=\"text-align: right;\">\n",
       "      <th></th>\n",
       "      <th>user_id</th>\n",
       "    </tr>\n",
       "    <tr>\n",
       "      <th>group</th>\n",
       "      <th></th>\n",
       "    </tr>\n",
       "  </thead>\n",
       "  <tbody>\n",
       "    <tr>\n",
       "      <th>A</th>\n",
       "      <td>2747</td>\n",
       "    </tr>\n",
       "    <tr>\n",
       "      <th>B</th>\n",
       "      <td>928</td>\n",
       "    </tr>\n",
       "  </tbody>\n",
       "</table>\n",
       "</div>"
      ],
      "text/plain": [
       "       user_id\n",
       "group         \n",
       "A         2747\n",
       "B          928"
      ]
     },
     "execution_count": 29,
     "metadata": {},
     "output_type": "execute_result"
    }
   ],
   "source": [
    "# постротрим как распределились группы участников\n",
    "df.groupby('group').agg({'user_id':'nunique'})"
   ]
  },
  {
   "cell_type": "markdown",
   "id": "caf05142",
   "metadata": {},
   "source": [
    "после всез преобразований распределение на группы выглядит крайне неравномерно. К группе А относится в три раза больше пользователей, чем к B."
   ]
  },
  {
   "cell_type": "code",
   "execution_count": 30,
   "id": "9335813b",
   "metadata": {},
   "outputs": [
    {
     "name": "stdout",
     "output_type": "stream",
     "text": [
      "Количество участников теста, совершивших события 3675\n"
     ]
    }
   ],
   "source": [
    "print('Количество участников теста, совершивших события', df['user_id'].nunique())"
   ]
  },
  {
   "cell_type": "markdown",
   "id": "430ea925",
   "metadata": {},
   "source": [
    "От изначальных участников события осталось чуть больше половины и меньше ожидаемого количества участников в 6000."
   ]
  },
  {
   "cell_type": "markdown",
   "id": "b8f16931",
   "metadata": {},
   "source": [
    "**Промежуточные выводы**\n",
    "\n",
    " - В таблице о тестах присутствуют данные за два A/B-теста. Пользователи этих тестов пересекаются между собой, пересечений по группам внутри тестаов не обнаружено.\n",
    " - В датах проведения теста наблюдается недостача данных. В файле событий временной промежуток находится в пределах 7-30 декабря 2020 года, когда заявленные дата проведения теста 7 декабря 2020- 4 января 2021.\n",
    " - В таблице с новыми пользователями пришлось отсечь пользователей, зарегистрировавшихся после 21 декабря 2020 года\n",
    " - Ровно 15% от общего количества новых зарегестрированных пользователей попало в эксперимент.\n",
    " - На старте уникальных устастников теста оказалось 6701, однако после исключения из данных пользователей, для которых не определены события, всего участников эксперимента 3675. Можно предположить, что данные пользователи не совершили никаких действий.\n",
    " - Из итоговой таблицы были отсечены события, которые осуществил пользователь после 14 дня с момента регистрации.\n",
    " - Разбиение на группы пользователей крайне неравномерное.\n",
    " \n",
    "В целом полученные данные соответствуют ТЗ на половину: есть много пропущенных значений, данные представлены нев полном об'ёме- отсутсвуют результаты эксперимента за 5 дней. Во время проведения эксперимента проводились маркетинговые акции, что так же могло повлиять на результаты тестирования. В конечном счете от заявленного количества участников эксперимента осталось чуть больше половины."
   ]
  },
  {
   "cell_type": "markdown",
   "id": "f68a0f4d",
   "metadata": {},
   "source": [
    "Проверить хватает ли пользователей"
   ]
  },
  {
   "cell_type": "markdown",
   "id": "dd0e1b69",
   "metadata": {},
   "source": [
    "## Исследовательский анализ"
   ]
  },
  {
   "cell_type": "markdown",
   "id": "3281e943",
   "metadata": {},
   "source": [
    "### Количество событий на пользователя"
   ]
  },
  {
   "cell_type": "code",
   "execution_count": 31,
   "id": "5ff24218",
   "metadata": {
    "scrolled": false
   },
   "outputs": [
    {
     "data": {
      "image/png": "[encoded data removed]",
      "text/plain": [
       "<Figure size 1200x300 with 1 Axes>"
      ]
     },
     "metadata": {
      "image/png": {
       "height": 320,
       "width": 1012
      }
     },
     "output_type": "display_data"
    }
   ],
   "source": [
    "# создадим таблицу распределения событий по группам\n",
    "event_count = df.pivot_table(index='user_id', columns = 'group', values = 'event_name', aggfunc = 'count')\n",
    "# визуализируем график распределения соббытий по группам\n",
    "plt.figure(figsize=[12, 3])\n",
    "sns.set_theme()\n",
    "# построим диаграмму для группы А\n",
    "event_count['A'].hist( bins = 26, color = '#D864A9',label='A', alpha=0.6)\n",
    "# построим диаграмму для группы В\n",
    "event_count['B'].hist( bins = 26, color = '#7AA874',label='B', alpha=0.6)\n",
    "plt.title('Диаграмма распределения событий по группам')\n",
    "plt.ylabel('Количество пользователей')\n",
    "plt.xlabel('Количество событий')\n",
    "plt.legend(title='Группа:')\n",
    "plt.show()"
   ]
  },
  {
   "cell_type": "markdown",
   "id": "9afbc846",
   "metadata": {},
   "source": [
    "Распределение количества событий по группам имеют похожие виды графиков, только в группе А таких событий больше."
   ]
  },
  {
   "cell_type": "code",
   "execution_count": 32,
   "id": "c1af5b11",
   "metadata": {},
   "outputs": [],
   "source": [
    "# зададим функцию для проверки гипотез\n",
    "def stat_sign(x,y,alpha):\n",
    "#вызовем метода для проверки гипотезы\n",
    "    results = st.ttest_ind(x, y, equal_var = False)\n",
    "# выведем значения p-value на экран\n",
    "    print('pvalue:',results.pvalue)  \n",
    "# Выведем на экран результат теста\n",
    "    if results.pvalue < alpha:\n",
    "        print('Отвергаем нулевую гипотезу, между средними есть значимая разница')\n",
    "    else: print('Не получилось отвергнуть нулевую гипотезу, между средними нет значимой разницы')"
   ]
  },
  {
   "cell_type": "markdown",
   "id": "b407a329",
   "metadata": {},
   "source": [
    "Приверим гипотезу о том, что среднее количество событий на пользователя группы A равно среднему количеству событий на пользователя группы B\n",
    "Сформулируем гипотезы. И определим уровень значимости.\n",
    "```\n",
    "H_0:\n",
    "Среднее количество событий на пользователя группы A = среднему количеству событий на пользователя группы B`\n",
    "\n",
    "H_a:\n",
    "Среднее количество событий на пользователя группы A  ≠ среднему количеству событий на пользователя группы B`\n",
    "\n",
    "alpha = 0.05\n",
    "```"
   ]
  },
  {
   "cell_type": "code",
   "execution_count": 33,
   "id": "a0d113d2",
   "metadata": {
    "scrolled": false
   },
   "outputs": [
    {
     "name": "stdout",
     "output_type": "stream",
     "text": [
      "Среднее количество событий на пользователя группы A : 6.9\n",
      "Среднее количество событий на пользователя группы B : 5.5\n"
     ]
    }
   ],
   "source": [
    "for i in event_count:\n",
    "    print('Среднее количество событий на пользователя группы',i,':', round(event_count[i].mean(),1))"
   ]
  },
  {
   "cell_type": "code",
   "execution_count": 34,
   "id": "1388ddd2",
   "metadata": {},
   "outputs": [
    {
     "name": "stdout",
     "output_type": "stream",
     "text": [
      "pvalue: 3.5201301348997294e-25\n",
      "Отвергаем нулевую гипотезу, между средними есть значимая разница\n"
     ]
    }
   ],
   "source": [
    "# проверим, если статистически значимая разнима между \n",
    "stat_sign(event_count['A'].dropna(), event_count['B'].dropna(), 0.05)"
   ]
  },
  {
   "cell_type": "markdown",
   "id": "4473482c",
   "metadata": {},
   "source": [
    "Среднее количество событий на пользователя отличается. При грубых рассчетах пользователи группы А совершают больше действий, чем пользователи группы B. При проверки гипотезы о том, что среднее количество действий пользователей между группами равны, пришлось отвергнуть гулевую гипотезу, между средними есть значимая разница."
   ]
  },
  {
   "cell_type": "markdown",
   "id": "caca4b5a",
   "metadata": {},
   "source": [
    "### Распределение числа событий по дням"
   ]
  },
  {
   "cell_type": "code",
   "execution_count": 35,
   "id": "c11dad4f",
   "metadata": {},
   "outputs": [],
   "source": [
    "# добавим столбец с количеством дней\n",
    "df['event_date'] = df['event_dt'].dt.date"
   ]
  },
  {
   "cell_type": "code",
   "execution_count": 36,
   "id": "0691fe82",
   "metadata": {},
   "outputs": [
    {
     "data": {
      "image/png": "[encoded data removed]",
      "text/plain": [
       "<Figure size 1200x300 with 1 Axes>"
      ]
     },
     "metadata": {
      "image/png": {
       "height": 320,
       "width": 1018
      }
     },
     "output_type": "display_data"
    }
   ],
   "source": [
    "# для каждой группы в данных\n",
    "plt.figure(figsize=[12, 3])\n",
    "sns.set_theme()\n",
    "for i in df['group'].unique().tolist():\n",
    "    if i == 'A':\n",
    "        color = '#D864A9'\n",
    "    else: color = '#7AA874'\n",
    "    # создадим сводную таблицу с количеством каждого типа события по дням\n",
    "    data = df.loc[df['group']==i].pivot_table(index = 'event_date',\n",
    "                            values = 'event_dt',aggfunc = 'count').reset_index()\n",
    "    # визуализируем сводную таблицу\n",
    "    plt.bar(data['event_date'], data['event_dt'], color = color, alpha=0.6, label=i)\n",
    "\n",
    "plt.title('График распределения числа событий по дням')\n",
    "plt.xlabel ('Время')\n",
    "plt.ylabel('Количество событий')\n",
    "plt.legend(title='Группа:')\n",
    "plt.show()"
   ]
  },
  {
   "cell_type": "markdown",
   "id": "02cd3c8d",
   "metadata": {},
   "source": [
    "В группе А до с 14 числа пользователи стали совершать большее количество событий, пик активности приходится на 21 декабря, далее количество событий начинает затухать и к 29 декабря доходят до значений начала эксперимента.\n",
    "\n",
    "В группе В количество событий меньше, однако пик так же достигается 21 декабря и дальше график идет на спад.\n",
    "\n",
    "К 21 декабря, пользователи, зарегестрировавгиеся 7 декабря \"прожили\" полные две недели и при следующих подсчетах их действия уже не учитывались, на следующий день не учитывались события зарегистрировавшихся 8 декабря, так что не удивительно, что график идет на спад."
   ]
  },
  {
   "cell_type": "markdown",
   "id": "a61b15c9",
   "metadata": {},
   "source": [
    "### Конверсия воронки в выборках на разных этапах"
   ]
  },
  {
   "cell_type": "markdown",
   "id": "9a0c3eed",
   "metadata": {},
   "source": [
    "Воронка должна иметь следующий вид: login, product_page, product_cart, purchase"
   ]
  },
  {
   "cell_type": "code",
   "execution_count": 37,
   "id": "80ce519e",
   "metadata": {},
   "outputs": [],
   "source": [
    "# создадим функию, которая будет определять номер шага воронки:\n",
    "def funnel_step (df):\n",
    "    step = df['event_name']\n",
    "    if step == 'login':                    \n",
    "        return '0'\n",
    "    elif step == 'product_page':\n",
    "        return '2'\n",
    "    elif step == 'product_cart': \n",
    "        return '3'\n",
    "    else:\n",
    "        return '4'\n",
    "df['funnel_step'] = df.apply(funnel_step, axis=1) # применим функцию к датафрейму, создав новый столбец"
   ]
  },
  {
   "cell_type": "code",
   "execution_count": 38,
   "id": "8d342744",
   "metadata": {},
   "outputs": [],
   "source": [
    "# создадим таблицу с количеством уникальных пользльзователей для каждого события по группам\n",
    "funnel_a = (df[df['group']=='A'].groupby(['event_name','funnel_step'])\n",
    "            .agg({'user_id':'nunique'})\n",
    "            .sort_values(by='funnel_step')\n",
    "         .reset_index())\n",
    "funnel_a.columns = ['event_name', 'funnel_step','count_user']\n",
    "\n",
    "funnel_a['per%'] = round(funnel_a['count_user']/(df[df['group']=='A']['user_id'].nunique())*100, 2)\n",
    "\n",
    "# добавим колонку воронки отношением к первому шагу\n",
    "funnel_a['funnel_all%'] = round(funnel_a['count_user']/(funnel_a['count_user'][0])*100, 2)\n",
    "\n",
    "# создадим столбец конверсии пользователей в шаг\n",
    "for i in funnel_a.index:\n",
    "    if i == 0:\n",
    "        funnel_a.loc[i, 'funnel%'] = round(funnel_a.loc[i,'count_user']\n",
    "                                      /funnel_a.loc[i,'count_user']*100, 2)\n",
    "    else:\n",
    "        funnel_a.loc[i, 'funnel%'] = round(funnel_a.loc[i,'count_user']\n",
    "                                           /funnel_a.loc[i-1,'count_user']*100, 2)"
   ]
  },
  {
   "cell_type": "code",
   "execution_count": 39,
   "id": "10799517",
   "metadata": {},
   "outputs": [],
   "source": [
    "# создадим таблицу с количеством уникальных пользльзователей для каждого события по группам\n",
    "funnel_b = (df[df['group']=='B'].groupby(['event_name','funnel_step'])\n",
    "            .agg({'user_id':'nunique'})\n",
    "            .sort_values(by='funnel_step')\n",
    "         .reset_index())\n",
    "funnel_b.columns = ['event_name', 'funnel_step','count_user']\n",
    "\n",
    "funnel_b['per%'] = round(funnel_b['count_user']/(df[df['group']=='B']['user_id'].nunique())*100, 2)\n",
    "\n",
    "# добавим колонку воронки отношением к первому шагу\n",
    "funnel_b['funnel_all%'] = round(funnel_b['count_user']/(funnel_b['count_user'][0])*100, 2)\n",
    "\n",
    "# создадим столбец конверсии пользователей в шаг\n",
    "for i in funnel_b.index:\n",
    "    if i == 0:\n",
    "        funnel_b.loc[i, 'funnel%'] = round(funnel_b.loc[i,'count_user']\n",
    "                                      /funnel_b.loc[i,'count_user']*100, 2)\n",
    "    else:\n",
    "        funnel_b.loc[i, 'funnel%'] = round(funnel_b.loc[i,'count_user']\n",
    "                                           /funnel_b.loc[i-1,'count_user']*100, 2)"
   ]
  },
  {
   "cell_type": "code",
   "execution_count": 40,
   "id": "15879285",
   "metadata": {},
   "outputs": [
    {
     "data": {
      "image/png": "[encoded data removed]",
      "text/plain": [
       "<Figure size 700x300 with 1 Axes>"
      ]
     },
     "metadata": {
      "image/png": {
       "height": 320,
       "width": 629
      }
     },
     "output_type": "display_data"
    }
   ],
   "source": [
    "# построим график пользователей в шаг для группы A\n",
    "plt.figure(figsize=[7, 3])\n",
    "plt.plot(funnel_a['event_name'], funnel_a['funnel%'], color = '#D864A9',label='Группа A')\n",
    "\n",
    "# построим график пользователей в шаг для группы B\n",
    "plt.plot(funnel_b['event_name'], funnel_b['funnel%'], color = '#7AA874',label='Группа B')\n",
    "plt.title('График по воронке')\n",
    "plt.xlabel ('событие')\n",
    "plt.ylabel('конверсия в шаг,%')\n",
    "plt.legend()\n",
    "plt.show()"
   ]
  },
  {
   "cell_type": "code",
   "execution_count": 41,
   "id": "0528de99",
   "metadata": {},
   "outputs": [
    {
     "name": "stdout",
     "output_type": "stream",
     "text": [
      "Таблица конверсии пользователей для группы A\n"
     ]
    },
    {
     "data": {
      "text/html": [
       "<div>\n",
       "<style scoped>\n",
       "    .dataframe tbody tr th:only-of-type {\n",
       "        vertical-align: middle;\n",
       "    }\n",
       "\n",
       "    .dataframe tbody tr th {\n",
       "        vertical-align: top;\n",
       "    }\n",
       "\n",
       "    .dataframe thead th {\n",
       "        text-align: right;\n",
       "    }\n",
       "</style>\n",
       "<table border=\"1\" class=\"dataframe\">\n",
       "  <thead>\n",
       "    <tr style=\"text-align: right;\">\n",
       "      <th></th>\n",
       "      <th>event_name</th>\n",
       "      <th>funnel_step</th>\n",
       "      <th>count_user</th>\n",
       "      <th>per%</th>\n",
       "      <th>funnel_all%</th>\n",
       "      <th>funnel%</th>\n",
       "    </tr>\n",
       "  </thead>\n",
       "  <tbody>\n",
       "    <tr>\n",
       "      <th>0</th>\n",
       "      <td>login</td>\n",
       "      <td>0</td>\n",
       "      <td>2747</td>\n",
       "      <td>100.00</td>\n",
       "      <td>100.00</td>\n",
       "      <td>100.00</td>\n",
       "    </tr>\n",
       "    <tr>\n",
       "      <th>1</th>\n",
       "      <td>product_page</td>\n",
       "      <td>2</td>\n",
       "      <td>1780</td>\n",
       "      <td>64.80</td>\n",
       "      <td>64.80</td>\n",
       "      <td>64.80</td>\n",
       "    </tr>\n",
       "    <tr>\n",
       "      <th>2</th>\n",
       "      <td>product_cart</td>\n",
       "      <td>3</td>\n",
       "      <td>824</td>\n",
       "      <td>30.00</td>\n",
       "      <td>30.00</td>\n",
       "      <td>46.29</td>\n",
       "    </tr>\n",
       "    <tr>\n",
       "      <th>3</th>\n",
       "      <td>purchase</td>\n",
       "      <td>4</td>\n",
       "      <td>872</td>\n",
       "      <td>31.74</td>\n",
       "      <td>31.74</td>\n",
       "      <td>105.83</td>\n",
       "    </tr>\n",
       "  </tbody>\n",
       "</table>\n",
       "</div>"
      ],
      "text/plain": [
       "     event_name funnel_step  count_user    per%  funnel_all%  funnel%\n",
       "0         login           0        2747  100.00       100.00   100.00\n",
       "1  product_page           2        1780   64.80        64.80    64.80\n",
       "2  product_cart           3         824   30.00        30.00    46.29\n",
       "3      purchase           4         872   31.74        31.74   105.83"
      ]
     },
     "metadata": {},
     "output_type": "display_data"
    },
    {
     "name": "stdout",
     "output_type": "stream",
     "text": [
      "Таблица конверсии пользователей для группы B\n"
     ]
    },
    {
     "data": {
      "text/html": [
       "<div>\n",
       "<style scoped>\n",
       "    .dataframe tbody tr th:only-of-type {\n",
       "        vertical-align: middle;\n",
       "    }\n",
       "\n",
       "    .dataframe tbody tr th {\n",
       "        vertical-align: top;\n",
       "    }\n",
       "\n",
       "    .dataframe thead th {\n",
       "        text-align: right;\n",
       "    }\n",
       "</style>\n",
       "<table border=\"1\" class=\"dataframe\">\n",
       "  <thead>\n",
       "    <tr style=\"text-align: right;\">\n",
       "      <th></th>\n",
       "      <th>event_name</th>\n",
       "      <th>funnel_step</th>\n",
       "      <th>count_user</th>\n",
       "      <th>per%</th>\n",
       "      <th>funnel_all%</th>\n",
       "      <th>funnel%</th>\n",
       "    </tr>\n",
       "  </thead>\n",
       "  <tbody>\n",
       "    <tr>\n",
       "      <th>0</th>\n",
       "      <td>login</td>\n",
       "      <td>0</td>\n",
       "      <td>927</td>\n",
       "      <td>99.89</td>\n",
       "      <td>100.00</td>\n",
       "      <td>100.00</td>\n",
       "    </tr>\n",
       "    <tr>\n",
       "      <th>1</th>\n",
       "      <td>product_page</td>\n",
       "      <td>2</td>\n",
       "      <td>523</td>\n",
       "      <td>56.36</td>\n",
       "      <td>56.42</td>\n",
       "      <td>56.42</td>\n",
       "    </tr>\n",
       "    <tr>\n",
       "      <th>2</th>\n",
       "      <td>product_cart</td>\n",
       "      <td>3</td>\n",
       "      <td>255</td>\n",
       "      <td>27.48</td>\n",
       "      <td>27.51</td>\n",
       "      <td>48.76</td>\n",
       "    </tr>\n",
       "    <tr>\n",
       "      <th>3</th>\n",
       "      <td>purchase</td>\n",
       "      <td>4</td>\n",
       "      <td>256</td>\n",
       "      <td>27.59</td>\n",
       "      <td>27.62</td>\n",
       "      <td>100.39</td>\n",
       "    </tr>\n",
       "  </tbody>\n",
       "</table>\n",
       "</div>"
      ],
      "text/plain": [
       "     event_name funnel_step  count_user   per%  funnel_all%  funnel%\n",
       "0         login           0         927  99.89       100.00   100.00\n",
       "1  product_page           2         523  56.36        56.42    56.42\n",
       "2  product_cart           3         255  27.48        27.51    48.76\n",
       "3      purchase           4         256  27.59        27.62   100.39"
      ]
     },
     "metadata": {},
     "output_type": "display_data"
    }
   ],
   "source": [
    "print('Таблица конверсии пользователей для группы A')\n",
    "display(funnel_a)\n",
    "print('Таблица конверсии пользователей для группы B')\n",
    "display(funnel_b)"
   ]
  },
  {
   "cell_type": "markdown",
   "id": "d0aa9281",
   "metadata": {},
   "source": [
    "Большое количество зарегистрировавших пользователей вообще не совершиют никаких действий. Из тех, кто прошел страницу login только 64% в группе А доходят до продуктовых страниц и 56% в группе В. На этом шаге теряется большая часть пользователей. Ввиду того, что пользователей совершивших покупку больше, чем пользоватлей посетивших продутовую корзину, можно сделать вывод, что страница продуктовой корзины не обязательна и ее можно пропустить.\\\n",
    "На данном этапе видно, что конверсия от изначального количества пользователей не увеличивается на 10%, а уменьшается."
   ]
  },
  {
   "cell_type": "markdown",
   "id": "971a9c2a",
   "metadata": {},
   "source": [
    "**Какие особенности данных нужно учесть, прежде чем приступать к A/B-тестированию?**"
   ]
  },
  {
   "cell_type": "markdown",
   "id": "fc0979ac",
   "metadata": {},
   "source": [
    "1. Безусловно стоит учитывать неполноту данных, т.к. неизвестно ничего о событиях пользователей за последние 6 дней эксперимента.\n",
    "2. Так же стоит учитывать, что из общего числа тестируемых около 45% не совершали никаких действий.\n",
    "3. Стоит учитывать, что во время проведения А/В-теста проводились маркетинговые акции в некоторых из регионов, которые так же могли повлиять на действия пользователей и, в итоге, на результаты теста."
   ]
  },
  {
   "cell_type": "markdown",
   "id": "b2bdad1c",
   "metadata": {},
   "source": [
    "## Результаты A/B-тестирования"
   ]
  },
  {
   "cell_type": "code",
   "execution_count": 42,
   "id": "475eddb7",
   "metadata": {},
   "outputs": [],
   "source": [
    "# задаем функцию, которая \n",
    "def z_criteria(count, test, alpha): # передаем общее количество пользователей и тестовые группы\n",
    "    for name, values in test.iteritems():\n",
    "        # пропорция успехов в первой группе\n",
    "        p1 = values[0]/count[0]\n",
    "        \n",
    "        # пропорция успехов во второй группе\n",
    "        p2 = values[1]/count[1] \n",
    "        \n",
    "        print(values[0], values[1],count[0] , count[1])\n",
    "        \n",
    "        # пропорция успехов в комбинированном датасете\n",
    "        p_combined = (values[0] + values[1]) / (count[0] + count[1])\n",
    "        \n",
    "        # разница пропорций в датасетах\n",
    "        difference = p1 - p2\n",
    "        \n",
    "        # считаем статистику в ст.отклонениях стандартного нормального распределения\n",
    "        z_value = difference / mth.sqrt(p_combined * (1 - p_combined) * (1/count[0] + 1/count[1]))\n",
    "        \n",
    "        # задаем стандартное нормальное распределение (среднее 0, ст.отклонение 1)\n",
    "        distr = st.norm(0, 1)\n",
    "        \n",
    "        # рассчитываем p_value\n",
    "        p_value = (1 - distr.cdf(abs(z_value))) * 2\n",
    "        \n",
    "        # выводим результат\n",
    "        print('Для события {} '.format(name))\n",
    "        print('p-значение: ', p_value)\n",
    "        if p_value < alpha:\n",
    "            print('Отвергаем нулевую гипотезу: между долями есть значимая разница')\n",
    "        else:\n",
    "            print('Не получилось отвергнуть нулевую гипотезу, нет оснований считать доли разными')\n",
    "        print('')"
   ]
  },
  {
   "cell_type": "markdown",
   "id": "6d4c65a2",
   "metadata": {},
   "source": [
    "Примем уровень значимости 0.05.\n",
    "\n",
    "С каждой новой проверкой гипотезы растёт вероятность ошибки первого рода. \n",
    "\n",
    "Чтобы снизить вероятность ложнопозитивного результата при множественном тестировании гипотез, применяют разные методы корректировки уровня значимости.\n",
    "\n",
    "В данной рабботе будем применять ***Метод Шидака***:\n",
    "\n",
    "*1 - (1 - 0.05)^(1/m)*\n",
    "\n",
    "Количество сравнений - 3, поэтому параметр m формулы равняется 3"
   ]
  },
  {
   "cell_type": "code",
   "execution_count": 43,
   "id": "95807485",
   "metadata": {},
   "outputs": [
    {
     "name": "stdout",
     "output_type": "stream",
     "text": [
      "alpha = 0.017\n"
     ]
    }
   ],
   "source": [
    "# расчитываем alpha по формуле метода Шидака\n",
    "alpha = 1 - (1 - 0.05)**(1/3)\n",
    "print('alpha =', round(alpha, 4))"
   ]
  },
  {
   "cell_type": "code",
   "execution_count": 44,
   "id": "e04ac381",
   "metadata": {},
   "outputs": [],
   "source": [
    "# рассчитаем таблицу с пользователями по событиям\n",
    "test = (df.pivot_table(index = 'group',\n",
    "                             columns = 'event_name',\n",
    "                             values = 'user_id',\n",
    "                             aggfunc = 'nunique').drop(columns=['login']))"
   ]
  },
  {
   "cell_type": "code",
   "execution_count": 45,
   "id": "95702c10",
   "metadata": {},
   "outputs": [],
   "source": [
    "# рассчитаем количество учасников в каждой группе\n",
    "count = df.groupby('group').agg({'user_id':'nunique'})['user_id']"
   ]
  },
  {
   "cell_type": "markdown",
   "id": "a32478db",
   "metadata": {},
   "source": [
    "\n",
    "Сформулируем единые гопотезы для проверки равенства долей кортрольных групп для всех событий:\n",
    "```\n",
    "H_0: Доля группы A = Доля группы B`\n",
    "H_1: Доля группы A ≠ Доля группы B`\n",
    "\n",
    "alpha = 0.017\n",
    "```"
   ]
  },
  {
   "cell_type": "code",
   "execution_count": 46,
   "id": "a877e3b2",
   "metadata": {},
   "outputs": [
    {
     "name": "stdout",
     "output_type": "stream",
     "text": [
      "824 255 2747 928\n",
      "Для события product_cart \n",
      "p-значение:  0.14534814557238196\n",
      "Не получилось отвергнуть нулевую гипотезу, нет оснований считать доли разными\n",
      "\n",
      "1780 523 2747 928\n",
      "Для события product_page \n",
      "p-значение:  4.310980554755872e-06\n",
      "Отвергаем нулевую гипотезу: между долями есть значимая разница\n",
      "\n",
      "872 256 2747 928\n",
      "Для события purchase \n",
      "p-значение:  0.017592402663314743\n",
      "Не получилось отвергнуть нулевую гипотезу, нет оснований считать доли разными\n",
      "\n"
     ]
    }
   ],
   "source": [
    "# для интересующих нас событий рассчитаем равенство долей\n",
    "z_criteria(count,test,alpha)"
   ]
  },
  {
   "cell_type": "markdown",
   "id": "3971f3df",
   "metadata": {},
   "source": [
    "Статистически значимая разница между долями групп присутствует только на втором шаге. Для остальных шагов воронки статистически значимой разницы выявлено не было. Таким образом, изменения, связанных с внедрением улучшенной рекомендательной системы не повлияют на конверсию пользователей в шаг."
   ]
  },
  {
   "cell_type": "markdown",
   "id": "44adfb17",
   "metadata": {},
   "source": [
    "## Выводы"
   ]
  },
  {
   "cell_type": "markdown",
   "id": "45462744",
   "metadata": {},
   "source": [
    "**Результаты:**\n",
    "\n",
    "1. В данных присутствовали пользовати двух различных тестов. 9,6 % пользователей участвовали сразу в двух экспериментах. По отдельности пользователи не попали в разные экспериментальные группы, однако если смотреть в целом, то таких пользователей 4,7%. \n",
    "\n",
    "2. Минимальная дата совпадает с датой запуска, однако дата остановки сильно завышена. Данные с 31 декабря 2020 по 4 января 2021 отсутсвуют.\n",
    "\n",
    "3. По ТЗ новых пользователей перестали набирать 21 декабря, что соответствует действительности.\n",
    "     \n",
    "4. Процент пользователей из Европы попавших в тест равен 15%.\n",
    "\n",
    "5. Для каждого пользователя были удалены события старше 14 дней с момента регистрации.\n",
    "\n",
    "6. Были обнаружены пользователи, для который нет событий. Большая часть таких пользователей из новой платёжной воронки, которая итак обладает дефицитом пользователей по сравнению с контрольной группой. В данном исследовании пользователи без совершенных событий принимать участие не могут.\n",
    "\n",
    "7. Изначально количество участников эксперимента составляло - 6701. Бо'льшее количество пользователей в контрольной группе, чем в новой платёжной воронке. После исключения из данных пользователей, для которых не определены события, всего участников эксперимента 3675.\n",
    "\n",
    "8. Во время проведения эксперимента проводились две маркетинговые акции:\n",
    "    - CIS New Year Gift Lottery - затрагивает только один день нашего исследования и страны СНГ,\n",
    "    - Christmas&New Year Promo, проводившееся в Европе и Северной Америке затрагивает период с 25 по 30 декабря. Это довольно большой промежуток времени.\n",
    "    \n",
    "9. Среднее количество событий на пользователя отличается. При грубых рассчетах пользователи группы А совершают больше действий, чем пользователи группы B. При проверки гипотезы о том, что среднее количество действий пользователей между группами равны, пришлось отвергнуть гулевую гипотезу, между средними есть значимая разница. \n",
    "\n",
    "10. В группе А до с 14 числа пользователи стали совершать большее количество событий, пик активности приходится на 21 декабря, далее количество событий начинает затухать и к 29 декабря доходят до значений начала эксперимента. В группе В количество событий меньше, однако пик так же достигается 21 декабря и дальше график идет на спад. К 21 декабря, пользователи, зарегестрировавгиеся 7 декабря \"прожили\" полные две недели и при следующих подсчетах их действия уже не учитывались, на следующий день не учитывались события зарегистрировавшихся 8 декабря, так что не удивительно, что график идет на спад.\n",
    "\n",
    "11. Большое количество зарегистрировавших пользователей вообще не совершиют никаких действий. Из тех, кто прошел страницу login только 64% в группе А доходят до продуктовых страниц и 56% в группе В. На этом шаге теряется большая часть пользователей. Ввиду того, что пользователей совершивших покупку больше, чем пользоватлей посетивших продутовую корзину, можно сделать вывод, что страница продуктовой корзины не обязательна и ее можно пропустить. Конверсия от изначального количества пользователей не увеличивается на 10%, а уменьшается.\n",
    "\n",
    "12. Статистически значимая разница между долями групп присутствует только на втором шаге. Для остальных шагов воронки статистически значимой разницы выявлено не было. Таким образом, изменения, связанных с внедрением улучшенной рекомендательной системы не повлияют на конверсию пользователей в шаг."
   ]
  },
  {
   "cell_type": "markdown",
   "id": "a7a62417",
   "metadata": {},
   "source": [
    "**Вывод:** \n",
    "\n",
    "Данные в критичных моментах не соответствуют техническому заданию, что могло довольно существенно повлиять на результаты проводимого эксперимента. Не совпадает ни ожидаемое количество участников ни время проведения эксперимента. Негативно на результатах теста могла сказаться и проводимая в это время рождественская маркетинговая акция. Как по итогу в метрики контрольной группы оказались выше тех же у новой платежной воронки. Как итог тест нельзя назвать корректным.\n",
    "\n",
    "A/B- тест будем считать состоявшимся, однако прироста конверсии на каждом шаге не произошло. Рекоммендовать внедрение улучшенной рекомендательной системы не стоит. Эксперимент следует завершить. Провести тест заново в другие даты вне времени проведения маркетинговых акций."
   ]
  }
 ],
 "metadata": {
  "ExecuteTimeLog": [
   {
    "duration": 731,
    "start_time": "2022-11-10T04:33:26.549Z"
   },
   {
    "duration": 0,
    "start_time": "2022-11-10T04:33:27.284Z"
   },
   {
    "duration": 0,
    "start_time": "2022-11-10T04:33:27.286Z"
   },
   {
    "duration": 0,
    "start_time": "2022-11-10T04:33:27.287Z"
   },
   {
    "duration": 0,
    "start_time": "2022-11-10T04:33:27.288Z"
   },
   {
    "duration": 0,
    "start_time": "2022-11-10T04:33:27.289Z"
   },
   {
    "duration": 0,
    "start_time": "2022-11-10T04:33:27.291Z"
   },
   {
    "duration": 0,
    "start_time": "2022-11-10T04:33:27.292Z"
   },
   {
    "duration": 0,
    "start_time": "2022-11-10T04:33:27.293Z"
   },
   {
    "duration": 0,
    "start_time": "2022-11-10T04:33:27.295Z"
   },
   {
    "duration": 0,
    "start_time": "2022-11-10T04:33:27.296Z"
   },
   {
    "duration": 0,
    "start_time": "2022-11-10T04:33:27.298Z"
   },
   {
    "duration": 0,
    "start_time": "2022-11-10T04:33:27.299Z"
   },
   {
    "duration": 0,
    "start_time": "2022-11-10T04:33:27.301Z"
   },
   {
    "duration": 0,
    "start_time": "2022-11-10T04:33:27.303Z"
   },
   {
    "duration": 0,
    "start_time": "2022-11-10T04:33:27.305Z"
   },
   {
    "duration": 0,
    "start_time": "2022-11-10T04:33:27.306Z"
   },
   {
    "duration": 0,
    "start_time": "2022-11-10T04:33:27.307Z"
   },
   {
    "duration": 0,
    "start_time": "2022-11-10T04:33:27.309Z"
   },
   {
    "duration": 0,
    "start_time": "2022-11-10T04:33:27.310Z"
   },
   {
    "duration": 0,
    "start_time": "2022-11-10T04:33:27.349Z"
   },
   {
    "duration": 0,
    "start_time": "2022-11-10T04:33:27.350Z"
   },
   {
    "duration": 0,
    "start_time": "2022-11-10T04:33:27.352Z"
   },
   {
    "duration": 0,
    "start_time": "2022-11-10T04:33:27.353Z"
   },
   {
    "duration": 0,
    "start_time": "2022-11-10T04:33:27.354Z"
   },
   {
    "duration": 0,
    "start_time": "2022-11-10T04:33:27.356Z"
   },
   {
    "duration": 0,
    "start_time": "2022-11-10T04:33:27.357Z"
   },
   {
    "duration": 0,
    "start_time": "2022-11-10T04:33:27.358Z"
   },
   {
    "duration": 0,
    "start_time": "2022-11-10T04:33:27.362Z"
   },
   {
    "duration": 0,
    "start_time": "2022-11-10T04:33:27.363Z"
   },
   {
    "duration": 0,
    "start_time": "2022-11-10T04:33:27.365Z"
   },
   {
    "duration": 0,
    "start_time": "2022-11-10T04:33:27.366Z"
   },
   {
    "duration": 0,
    "start_time": "2022-11-10T04:33:27.368Z"
   },
   {
    "duration": 0,
    "start_time": "2022-11-10T04:33:27.369Z"
   },
   {
    "duration": 0,
    "start_time": "2022-11-10T04:33:27.371Z"
   },
   {
    "duration": 0,
    "start_time": "2022-11-10T04:33:27.373Z"
   },
   {
    "duration": 0,
    "start_time": "2022-11-10T04:33:27.374Z"
   },
   {
    "duration": 0,
    "start_time": "2022-11-10T04:33:27.376Z"
   },
   {
    "duration": 0,
    "start_time": "2022-11-10T04:33:27.377Z"
   },
   {
    "duration": 0,
    "start_time": "2022-11-10T04:33:27.379Z"
   },
   {
    "duration": 0,
    "start_time": "2022-11-10T04:33:27.380Z"
   },
   {
    "duration": 0,
    "start_time": "2022-11-10T04:33:27.382Z"
   },
   {
    "duration": 0,
    "start_time": "2022-11-10T04:33:27.384Z"
   },
   {
    "duration": 0,
    "start_time": "2022-11-10T04:33:27.385Z"
   },
   {
    "duration": 0,
    "start_time": "2022-11-10T04:33:27.386Z"
   },
   {
    "duration": 0,
    "start_time": "2022-11-10T04:33:27.388Z"
   },
   {
    "duration": 0,
    "start_time": "2022-11-10T04:33:27.390Z"
   },
   {
    "duration": 0,
    "start_time": "2022-11-10T04:33:27.392Z"
   },
   {
    "duration": 0,
    "start_time": "2022-11-10T04:33:27.394Z"
   },
   {
    "duration": 0,
    "start_time": "2022-11-10T04:33:27.395Z"
   },
   {
    "duration": 0,
    "start_time": "2022-11-10T04:33:27.398Z"
   },
   {
    "duration": 0,
    "start_time": "2022-11-10T04:33:27.448Z"
   },
   {
    "duration": 0,
    "start_time": "2022-11-10T04:33:27.450Z"
   },
   {
    "duration": 0,
    "start_time": "2022-11-10T04:33:27.451Z"
   },
   {
    "duration": 0,
    "start_time": "2022-11-10T04:33:27.452Z"
   },
   {
    "duration": 0,
    "start_time": "2022-11-10T04:33:27.453Z"
   },
   {
    "duration": 0,
    "start_time": "2022-11-10T04:33:27.454Z"
   },
   {
    "duration": 0,
    "start_time": "2022-11-10T04:33:27.456Z"
   },
   {
    "duration": 1168,
    "start_time": "2022-11-10T05:58:09.626Z"
   },
   {
    "duration": 762,
    "start_time": "2022-11-10T05:58:24.823Z"
   },
   {
    "duration": 635,
    "start_time": "2022-11-10T05:58:25.587Z"
   },
   {
    "duration": 2060,
    "start_time": "2022-11-10T05:58:26.223Z"
   },
   {
    "duration": 10,
    "start_time": "2022-11-10T05:58:28.285Z"
   },
   {
    "duration": 24,
    "start_time": "2022-11-10T05:58:28.296Z"
   },
   {
    "duration": 31,
    "start_time": "2022-11-10T05:58:28.322Z"
   },
   {
    "duration": 13,
    "start_time": "2022-11-10T05:58:28.355Z"
   },
   {
    "duration": 22,
    "start_time": "2022-11-10T05:58:28.370Z"
   },
   {
    "duration": 28,
    "start_time": "2022-11-10T05:58:28.393Z"
   },
   {
    "duration": 12,
    "start_time": "2022-11-10T05:58:28.423Z"
   },
   {
    "duration": 45,
    "start_time": "2022-11-10T05:58:28.437Z"
   },
   {
    "duration": 44,
    "start_time": "2022-11-10T05:58:28.484Z"
   },
   {
    "duration": 1195,
    "start_time": "2022-11-10T05:58:28.530Z"
   },
   {
    "duration": 4,
    "start_time": "2022-11-10T05:58:29.727Z"
   },
   {
    "duration": 8,
    "start_time": "2022-11-10T05:58:29.733Z"
   },
   {
    "duration": 12,
    "start_time": "2022-11-10T05:58:29.742Z"
   },
   {
    "duration": 4,
    "start_time": "2022-11-10T05:58:29.756Z"
   },
   {
    "duration": 10,
    "start_time": "2022-11-10T05:58:29.761Z"
   },
   {
    "duration": 6,
    "start_time": "2022-11-10T05:58:29.772Z"
   },
   {
    "duration": 40,
    "start_time": "2022-11-10T05:58:29.779Z"
   },
   {
    "duration": 7,
    "start_time": "2022-11-10T05:58:29.821Z"
   },
   {
    "duration": 9,
    "start_time": "2022-11-10T05:58:29.830Z"
   },
   {
    "duration": 9,
    "start_time": "2022-11-10T05:58:29.841Z"
   },
   {
    "duration": 6,
    "start_time": "2022-11-10T05:58:29.851Z"
   },
   {
    "duration": 32,
    "start_time": "2022-11-10T05:58:29.859Z"
   },
   {
    "duration": 29,
    "start_time": "2022-11-10T05:58:29.893Z"
   },
   {
    "duration": 23,
    "start_time": "2022-11-10T05:58:29.923Z"
   },
   {
    "duration": 284,
    "start_time": "2022-11-10T05:58:29.949Z"
   },
   {
    "duration": 4,
    "start_time": "2022-11-10T05:58:30.235Z"
   },
   {
    "duration": 281,
    "start_time": "2022-11-10T05:58:30.240Z"
   },
   {
    "duration": 329,
    "start_time": "2022-11-10T05:58:30.523Z"
   },
   {
    "duration": 268,
    "start_time": "2022-11-10T05:58:30.853Z"
   },
   {
    "duration": 247,
    "start_time": "2022-11-10T05:58:31.123Z"
   },
   {
    "duration": 248,
    "start_time": "2022-11-10T05:58:31.372Z"
   },
   {
    "duration": 238,
    "start_time": "2022-11-10T05:58:31.621Z"
   },
   {
    "duration": 262,
    "start_time": "2022-11-10T05:58:31.861Z"
   },
   {
    "duration": 342,
    "start_time": "2022-11-10T05:58:32.125Z"
   },
   {
    "duration": 255,
    "start_time": "2022-11-10T05:58:32.469Z"
   },
   {
    "duration": 256,
    "start_time": "2022-11-10T05:58:32.726Z"
   },
   {
    "duration": 223,
    "start_time": "2022-11-10T05:58:32.984Z"
   },
   {
    "duration": 245,
    "start_time": "2022-11-10T05:58:33.208Z"
   },
   {
    "duration": 331,
    "start_time": "2022-11-10T05:58:33.455Z"
   },
   {
    "duration": 230,
    "start_time": "2022-11-10T05:58:33.788Z"
   },
   {
    "duration": 245,
    "start_time": "2022-11-10T05:58:34.020Z"
   },
   {
    "duration": 10,
    "start_time": "2022-11-10T05:58:34.267Z"
   },
   {
    "duration": 242,
    "start_time": "2022-11-10T05:58:34.280Z"
   },
   {
    "duration": 281,
    "start_time": "2022-11-10T05:58:34.524Z"
   },
   {
    "duration": 226,
    "start_time": "2022-11-10T05:58:34.807Z"
   },
   {
    "duration": 210,
    "start_time": "2022-11-10T05:58:35.035Z"
   },
   {
    "duration": 225,
    "start_time": "2022-11-10T05:58:35.247Z"
   },
   {
    "duration": 264,
    "start_time": "2022-11-10T05:58:35.474Z"
   },
   {
    "duration": 362,
    "start_time": "2022-11-10T05:58:35.740Z"
   },
   {
    "duration": 258,
    "start_time": "2022-11-10T05:58:36.104Z"
   },
   {
    "duration": 30,
    "start_time": "2022-11-10T05:58:36.365Z"
   },
   {
    "duration": 6,
    "start_time": "2022-11-10T05:58:36.397Z"
   },
   {
    "duration": 9,
    "start_time": "2022-11-10T05:58:36.420Z"
   },
   {
    "duration": 38,
    "start_time": "2022-11-10T05:58:36.431Z"
   },
   {
    "duration": 207,
    "start_time": "2022-11-10T05:58:36.471Z"
   },
   {
    "duration": 761,
    "start_time": "2022-11-11T05:06:52.058Z"
   },
   {
    "duration": 607,
    "start_time": "2022-11-11T05:06:52.821Z"
   },
   {
    "duration": 1875,
    "start_time": "2022-11-11T05:06:53.430Z"
   },
   {
    "duration": 10,
    "start_time": "2022-11-11T05:06:55.308Z"
   },
   {
    "duration": 21,
    "start_time": "2022-11-11T05:06:55.319Z"
   },
   {
    "duration": 29,
    "start_time": "2022-11-11T05:06:55.345Z"
   },
   {
    "duration": 12,
    "start_time": "2022-11-11T05:06:55.376Z"
   },
   {
    "duration": 18,
    "start_time": "2022-11-11T05:06:55.390Z"
   },
   {
    "duration": 3,
    "start_time": "2022-11-11T05:06:55.410Z"
   },
   {
    "duration": 10,
    "start_time": "2022-11-11T05:06:55.445Z"
   },
   {
    "duration": 41,
    "start_time": "2022-11-11T05:06:55.456Z"
   },
   {
    "duration": 19,
    "start_time": "2022-11-11T05:06:55.499Z"
   },
   {
    "duration": 1135,
    "start_time": "2022-11-11T05:06:55.519Z"
   },
   {
    "duration": 4,
    "start_time": "2022-11-11T05:06:56.655Z"
   },
   {
    "duration": 15,
    "start_time": "2022-11-11T05:06:56.660Z"
   },
   {
    "duration": 19,
    "start_time": "2022-11-11T05:06:56.676Z"
   },
   {
    "duration": 4,
    "start_time": "2022-11-11T05:06:56.697Z"
   },
   {
    "duration": 26,
    "start_time": "2022-11-11T05:06:56.703Z"
   },
   {
    "duration": 9,
    "start_time": "2022-11-11T05:06:56.731Z"
   },
   {
    "duration": 10,
    "start_time": "2022-11-11T05:06:56.742Z"
   },
   {
    "duration": 9,
    "start_time": "2022-11-11T05:06:56.753Z"
   },
   {
    "duration": 4,
    "start_time": "2022-11-11T05:06:56.764Z"
   },
   {
    "duration": 7,
    "start_time": "2022-11-11T05:06:56.769Z"
   },
   {
    "duration": 6,
    "start_time": "2022-11-11T05:06:56.777Z"
   },
   {
    "duration": 27,
    "start_time": "2022-11-11T05:06:56.784Z"
   },
   {
    "duration": 4,
    "start_time": "2022-11-11T05:06:56.813Z"
   },
   {
    "duration": 12,
    "start_time": "2022-11-11T05:06:56.845Z"
   },
   {
    "duration": 260,
    "start_time": "2022-11-11T05:06:56.860Z"
   },
   {
    "duration": 4,
    "start_time": "2022-11-11T05:06:57.122Z"
   },
   {
    "duration": 251,
    "start_time": "2022-11-11T05:06:57.127Z"
   },
   {
    "duration": 284,
    "start_time": "2022-11-11T05:06:57.379Z"
   },
   {
    "duration": 236,
    "start_time": "2022-11-11T05:06:57.664Z"
   },
   {
    "duration": 229,
    "start_time": "2022-11-11T05:06:57.901Z"
   },
   {
    "duration": 218,
    "start_time": "2022-11-11T05:06:58.132Z"
   },
   {
    "duration": 220,
    "start_time": "2022-11-11T05:06:58.352Z"
   },
   {
    "duration": 256,
    "start_time": "2022-11-11T05:06:58.574Z"
   },
   {
    "duration": 303,
    "start_time": "2022-11-11T05:06:58.832Z"
   },
   {
    "duration": 234,
    "start_time": "2022-11-11T05:06:59.137Z"
   },
   {
    "duration": 219,
    "start_time": "2022-11-11T05:06:59.373Z"
   },
   {
    "duration": 222,
    "start_time": "2022-11-11T05:06:59.593Z"
   },
   {
    "duration": 214,
    "start_time": "2022-11-11T05:06:59.817Z"
   },
   {
    "duration": 301,
    "start_time": "2022-11-11T05:07:00.033Z"
   },
   {
    "duration": 223,
    "start_time": "2022-11-11T05:07:00.336Z"
   },
   {
    "duration": 219,
    "start_time": "2022-11-11T05:07:00.561Z"
   },
   {
    "duration": 8,
    "start_time": "2022-11-11T05:07:00.782Z"
   },
   {
    "duration": 217,
    "start_time": "2022-11-11T05:07:00.792Z"
   },
   {
    "duration": 249,
    "start_time": "2022-11-11T05:07:01.010Z"
   },
   {
    "duration": 211,
    "start_time": "2022-11-11T05:07:01.261Z"
   },
   {
    "duration": 195,
    "start_time": "2022-11-11T05:07:01.473Z"
   },
   {
    "duration": 211,
    "start_time": "2022-11-11T05:07:01.669Z"
   },
   {
    "duration": 298,
    "start_time": "2022-11-11T05:07:01.883Z"
   },
   {
    "duration": 334,
    "start_time": "2022-11-11T05:07:02.183Z"
   },
   {
    "duration": 235,
    "start_time": "2022-11-11T05:07:02.519Z"
   },
   {
    "duration": 22,
    "start_time": "2022-11-11T05:07:02.756Z"
   },
   {
    "duration": 11,
    "start_time": "2022-11-11T05:07:02.780Z"
   },
   {
    "duration": 6,
    "start_time": "2022-11-11T05:07:02.793Z"
   },
   {
    "duration": 24,
    "start_time": "2022-11-11T05:07:02.801Z"
   },
   {
    "duration": 188,
    "start_time": "2022-11-11T05:07:02.826Z"
   },
   {
    "duration": 14,
    "start_time": "2022-11-11T05:09:07.584Z"
   },
   {
    "duration": 14,
    "start_time": "2022-11-11T05:12:22.509Z"
   },
   {
    "duration": 77,
    "start_time": "2022-11-11T05:12:26.938Z"
   },
   {
    "duration": 8,
    "start_time": "2022-11-11T05:13:39.150Z"
   },
   {
    "duration": 6,
    "start_time": "2022-11-11T05:13:46.160Z"
   },
   {
    "duration": 196,
    "start_time": "2022-11-11T05:17:21.494Z"
   },
   {
    "duration": 1596,
    "start_time": "2022-11-12T06:04:27.446Z"
   },
   {
    "duration": 220,
    "start_time": "2022-11-12T06:04:29.044Z"
   },
   {
    "duration": 1387,
    "start_time": "2022-11-12T06:04:29.266Z"
   },
   {
    "duration": 5313,
    "start_time": "2022-11-12T06:04:30.655Z"
   },
   {
    "duration": 70,
    "start_time": "2022-11-12T06:04:35.972Z"
   },
   {
    "duration": 86,
    "start_time": "2022-11-12T06:04:36.046Z"
   },
   {
    "duration": 106,
    "start_time": "2022-11-12T06:04:36.134Z"
   },
   {
    "duration": 23,
    "start_time": "2022-11-12T06:04:36.243Z"
   },
   {
    "duration": 78,
    "start_time": "2022-11-12T06:04:36.268Z"
   },
   {
    "duration": 5,
    "start_time": "2022-11-12T06:04:36.349Z"
   },
   {
    "duration": 76,
    "start_time": "2022-11-12T06:04:36.356Z"
   },
   {
    "duration": 137,
    "start_time": "2022-11-12T06:04:36.435Z"
   },
   {
    "duration": 78,
    "start_time": "2022-11-12T06:04:36.574Z"
   },
   {
    "duration": 2506,
    "start_time": "2022-11-12T06:04:36.656Z"
   },
   {
    "duration": 5,
    "start_time": "2022-11-12T06:04:39.165Z"
   },
   {
    "duration": 67,
    "start_time": "2022-11-12T06:04:39.172Z"
   },
   {
    "duration": 17,
    "start_time": "2022-11-12T06:04:39.241Z"
   },
   {
    "duration": 7,
    "start_time": "2022-11-12T06:04:39.260Z"
   },
   {
    "duration": 16,
    "start_time": "2022-11-12T06:04:39.331Z"
   },
   {
    "duration": 9,
    "start_time": "2022-11-12T06:04:39.349Z"
   },
   {
    "duration": 20,
    "start_time": "2022-11-12T06:04:39.359Z"
   },
   {
    "duration": 64,
    "start_time": "2022-11-12T06:04:39.381Z"
   },
   {
    "duration": 5,
    "start_time": "2022-11-12T06:04:39.447Z"
   },
   {
    "duration": 19,
    "start_time": "2022-11-12T06:04:39.454Z"
   },
   {
    "duration": 9,
    "start_time": "2022-11-12T06:04:39.531Z"
   },
   {
    "duration": 92,
    "start_time": "2022-11-12T06:04:39.544Z"
   },
   {
    "duration": 12,
    "start_time": "2022-11-12T06:04:39.637Z"
   },
   {
    "duration": 18,
    "start_time": "2022-11-12T06:04:39.651Z"
   },
   {
    "duration": 865,
    "start_time": "2022-11-12T06:04:39.671Z"
   },
   {
    "duration": 4,
    "start_time": "2022-11-12T06:04:40.538Z"
   },
   {
    "duration": 721,
    "start_time": "2022-11-12T06:04:40.544Z"
   },
   {
    "duration": 1093,
    "start_time": "2022-11-12T06:04:41.267Z"
   },
   {
    "duration": 969,
    "start_time": "2022-11-12T06:04:42.363Z"
   },
   {
    "duration": 705,
    "start_time": "2022-11-12T06:04:43.335Z"
   },
   {
    "duration": 429,
    "start_time": "2022-11-12T06:04:44.043Z"
   },
   {
    "duration": 795,
    "start_time": "2022-11-12T06:04:44.476Z"
   },
   {
    "duration": 890,
    "start_time": "2022-11-12T06:04:45.274Z"
   },
   {
    "duration": 473,
    "start_time": "2022-11-12T06:04:46.172Z"
   },
   {
    "duration": 1113,
    "start_time": "2022-11-12T06:04:46.648Z"
   },
   {
    "duration": 975,
    "start_time": "2022-11-12T06:04:47.764Z"
   },
   {
    "duration": 823,
    "start_time": "2022-11-12T06:04:48.747Z"
   },
   {
    "duration": 987,
    "start_time": "2022-11-12T06:04:49.573Z"
   },
   {
    "duration": 876,
    "start_time": "2022-11-12T06:04:50.566Z"
   },
   {
    "duration": 1210,
    "start_time": "2022-11-12T06:04:51.445Z"
   },
   {
    "duration": 795,
    "start_time": "2022-11-12T06:04:52.663Z"
   },
   {
    "duration": 75,
    "start_time": "2022-11-12T06:04:53.460Z"
   },
   {
    "duration": 6,
    "start_time": "2022-11-12T06:04:53.537Z"
   },
   {
    "duration": 607,
    "start_time": "2022-11-12T06:04:53.546Z"
   },
   {
    "duration": 17,
    "start_time": "2022-11-12T06:04:54.155Z"
   },
   {
    "duration": 579,
    "start_time": "2022-11-12T06:04:54.179Z"
   },
   {
    "duration": 13,
    "start_time": "2022-11-12T06:04:54.760Z"
   },
   {
    "duration": 652,
    "start_time": "2022-11-12T06:04:54.778Z"
   },
   {
    "duration": 10,
    "start_time": "2022-11-12T06:04:55.438Z"
   },
   {
    "duration": 618,
    "start_time": "2022-11-12T06:04:55.451Z"
   },
   {
    "duration": 898,
    "start_time": "2022-11-12T06:04:56.073Z"
   },
   {
    "duration": 309,
    "start_time": "2022-11-12T06:04:57.030Z"
   },
   {
    "duration": 330,
    "start_time": "2022-11-12T06:04:57.341Z"
   },
   {
    "duration": 362,
    "start_time": "2022-11-12T06:04:57.673Z"
   },
   {
    "duration": 34,
    "start_time": "2022-11-12T06:04:58.037Z"
   },
   {
    "duration": 15,
    "start_time": "2022-11-12T06:04:58.131Z"
   },
   {
    "duration": 21,
    "start_time": "2022-11-12T06:04:58.150Z"
   },
   {
    "duration": 99,
    "start_time": "2022-11-12T06:04:58.175Z"
   },
   {
    "duration": 387,
    "start_time": "2022-11-12T06:04:58.278Z"
   },
   {
    "duration": 945,
    "start_time": "2023-01-10T13:03:42.106Z"
   },
   {
    "duration": 1157,
    "start_time": "2023-01-10T13:03:43.054Z"
   },
   {
    "duration": 4,
    "start_time": "2023-01-10T13:03:44.213Z"
   },
   {
    "duration": 166,
    "start_time": "2023-01-10T13:03:44.218Z"
   },
   {
    "duration": 21,
    "start_time": "2023-01-10T13:03:44.387Z"
   },
   {
    "duration": 20,
    "start_time": "2023-01-10T13:03:44.410Z"
   },
   {
    "duration": 8,
    "start_time": "2023-01-10T13:03:44.455Z"
   },
   {
    "duration": 21,
    "start_time": "2023-01-10T13:03:44.472Z"
   },
   {
    "duration": 503,
    "start_time": "2023-01-10T13:03:44.495Z"
   },
   {
    "duration": 213,
    "start_time": "2023-01-10T13:03:45.000Z"
   },
   {
    "duration": 7,
    "start_time": "2023-01-10T13:03:45.214Z"
   },
   {
    "duration": 10,
    "start_time": "2023-01-10T13:03:45.222Z"
   },
   {
    "duration": 32,
    "start_time": "2023-01-10T13:03:45.233Z"
   },
   {
    "duration": 23,
    "start_time": "2023-01-10T13:03:45.268Z"
   },
   {
    "duration": 22,
    "start_time": "2023-01-10T13:03:45.293Z"
   },
   {
    "duration": 13,
    "start_time": "2023-01-10T13:03:45.317Z"
   },
   {
    "duration": 9,
    "start_time": "2023-01-10T13:03:45.332Z"
   },
   {
    "duration": 18,
    "start_time": "2023-01-10T13:03:45.342Z"
   },
   {
    "duration": 1356,
    "start_time": "2023-01-10T13:03:45.364Z"
   },
   {
    "duration": 22,
    "start_time": "2023-01-10T13:03:46.721Z"
   },
   {
    "duration": 63,
    "start_time": "2023-01-10T13:03:46.757Z"
   },
   {
    "duration": 65,
    "start_time": "2023-01-10T13:03:46.822Z"
   },
   {
    "duration": 78,
    "start_time": "2023-01-10T13:03:46.889Z"
   },
   {
    "duration": 5,
    "start_time": "2023-01-10T13:03:46.969Z"
   },
   {
    "duration": 26,
    "start_time": "2023-01-10T13:03:46.977Z"
   },
   {
    "duration": 11,
    "start_time": "2023-01-10T13:03:47.006Z"
   },
   {
    "duration": 612,
    "start_time": "2023-01-10T13:03:47.018Z"
   },
   {
    "duration": 21,
    "start_time": "2023-01-10T13:03:47.632Z"
   },
   {
    "duration": 19,
    "start_time": "2023-01-10T13:03:47.654Z"
   },
   {
    "duration": 94,
    "start_time": "2023-01-10T13:03:47.675Z"
   },
   {
    "duration": 440,
    "start_time": "2023-01-10T13:03:47.772Z"
   },
   {
    "duration": 862,
    "start_time": "2023-01-10T13:03:48.215Z"
   },
   {
    "duration": 701,
    "start_time": "2023-01-10T13:03:49.078Z"
   },
   {
    "duration": 1310,
    "start_time": "2023-01-10T13:03:49.782Z"
   },
   {
    "duration": 478,
    "start_time": "2023-01-10T13:03:51.094Z"
   },
   {
    "duration": 1768,
    "start_time": "2023-01-10T13:03:51.582Z"
   },
   {
    "duration": 513,
    "start_time": "2023-01-10T13:03:53.352Z"
   },
   {
    "duration": 914,
    "start_time": "2023-01-10T13:03:53.880Z"
   },
   {
    "duration": 790,
    "start_time": "2023-01-10T13:03:54.797Z"
   },
   {
    "duration": 1608,
    "start_time": "2023-01-10T13:03:55.589Z"
   },
   {
    "duration": 587,
    "start_time": "2023-01-10T13:03:57.202Z"
   },
   {
    "duration": 2238,
    "start_time": "2023-01-10T13:03:57.791Z"
   },
   {
    "duration": 491,
    "start_time": "2023-01-10T13:04:00.031Z"
   },
   {
    "duration": 880,
    "start_time": "2023-01-10T13:04:00.524Z"
   },
   {
    "duration": 704,
    "start_time": "2023-01-10T13:04:01.406Z"
   },
   {
    "duration": 1688,
    "start_time": "2023-01-10T13:04:02.113Z"
   },
   {
    "duration": 581,
    "start_time": "2023-01-10T13:04:03.804Z"
   },
   {
    "duration": 2162,
    "start_time": "2023-01-10T13:04:04.387Z"
   },
   {
    "duration": 483,
    "start_time": "2023-01-10T13:04:06.551Z"
   },
   {
    "duration": 1078,
    "start_time": "2023-01-10T13:04:07.036Z"
   },
   {
    "duration": 784,
    "start_time": "2023-01-10T13:04:08.116Z"
   },
   {
    "duration": 1873,
    "start_time": "2023-01-10T13:04:08.902Z"
   },
   {
    "duration": 618,
    "start_time": "2023-01-10T13:04:10.777Z"
   },
   {
    "duration": 2812,
    "start_time": "2023-01-10T13:04:11.397Z"
   },
   {
    "duration": 568,
    "start_time": "2023-01-11T07:33:56.657Z"
   },
   {
    "duration": 623,
    "start_time": "2023-01-11T07:33:57.226Z"
   },
   {
    "duration": 4,
    "start_time": "2023-01-11T07:33:57.850Z"
   },
   {
    "duration": 136,
    "start_time": "2023-01-11T07:33:57.856Z"
   },
   {
    "duration": 18,
    "start_time": "2023-01-11T07:33:57.994Z"
   },
   {
    "duration": 21,
    "start_time": "2023-01-11T07:33:58.013Z"
   },
   {
    "duration": 21,
    "start_time": "2023-01-11T07:33:58.035Z"
   },
   {
    "duration": 18,
    "start_time": "2023-01-11T07:33:58.058Z"
   },
   {
    "duration": 366,
    "start_time": "2023-01-11T07:33:58.078Z"
   },
   {
    "duration": 181,
    "start_time": "2023-01-11T07:33:58.446Z"
   },
   {
    "duration": 7,
    "start_time": "2023-01-11T07:33:58.629Z"
   },
   {
    "duration": 22,
    "start_time": "2023-01-11T07:33:58.638Z"
   },
   {
    "duration": 25,
    "start_time": "2023-01-11T07:33:58.661Z"
   },
   {
    "duration": 11,
    "start_time": "2023-01-11T07:33:58.689Z"
   },
   {
    "duration": 9,
    "start_time": "2023-01-11T07:33:58.701Z"
   },
   {
    "duration": 12,
    "start_time": "2023-01-11T07:33:58.711Z"
   },
   {
    "duration": 10,
    "start_time": "2023-01-11T07:33:58.724Z"
   },
   {
    "duration": 10,
    "start_time": "2023-01-11T07:33:58.736Z"
   },
   {
    "duration": 1127,
    "start_time": "2023-01-11T07:33:58.747Z"
   },
   {
    "duration": 25,
    "start_time": "2023-01-11T07:33:59.876Z"
   },
   {
    "duration": 75,
    "start_time": "2023-01-11T07:33:59.903Z"
   },
   {
    "duration": 47,
    "start_time": "2023-01-11T07:33:59.979Z"
   },
   {
    "duration": 52,
    "start_time": "2023-01-11T07:34:00.028Z"
   },
   {
    "duration": 3,
    "start_time": "2023-01-11T07:34:00.082Z"
   },
   {
    "duration": 39,
    "start_time": "2023-01-11T07:34:00.087Z"
   },
   {
    "duration": 32,
    "start_time": "2023-01-11T07:34:00.127Z"
   },
   {
    "duration": 667,
    "start_time": "2023-01-11T07:34:00.161Z"
   },
   {
    "duration": 22,
    "start_time": "2023-01-11T07:34:00.830Z"
   },
   {
    "duration": 39,
    "start_time": "2023-01-11T07:34:00.853Z"
   },
   {
    "duration": 99,
    "start_time": "2023-01-11T07:34:00.894Z"
   },
   {
    "duration": 339,
    "start_time": "2023-01-11T07:34:00.995Z"
   },
   {
    "duration": 730,
    "start_time": "2023-01-11T07:34:01.336Z"
   },
   {
    "duration": 501,
    "start_time": "2023-01-11T07:34:02.068Z"
   },
   {
    "duration": 1092,
    "start_time": "2023-01-11T07:34:02.571Z"
   },
   {
    "duration": 379,
    "start_time": "2023-01-11T07:34:03.664Z"
   },
   {
    "duration": 1380,
    "start_time": "2023-01-11T07:34:04.045Z"
   },
   {
    "duration": 399,
    "start_time": "2023-01-11T07:34:05.427Z"
   },
   {
    "duration": 711,
    "start_time": "2023-01-11T07:34:05.828Z"
   },
   {
    "duration": 562,
    "start_time": "2023-01-11T07:34:06.541Z"
   },
   {
    "duration": 1266,
    "start_time": "2023-01-11T07:34:07.105Z"
   },
   {
    "duration": 439,
    "start_time": "2023-01-11T07:34:08.376Z"
   },
   {
    "duration": 1788,
    "start_time": "2023-01-11T07:34:08.817Z"
   },
   {
    "duration": 380,
    "start_time": "2023-01-11T07:34:10.606Z"
   },
   {
    "duration": 753,
    "start_time": "2023-01-11T07:34:10.988Z"
   },
   {
    "duration": 558,
    "start_time": "2023-01-11T07:34:11.743Z"
   },
   {
    "duration": 1320,
    "start_time": "2023-01-11T07:34:12.302Z"
   },
   {
    "duration": 417,
    "start_time": "2023-01-11T07:34:13.624Z"
   },
   {
    "duration": 1825,
    "start_time": "2023-01-11T07:34:14.043Z"
   },
   {
    "duration": 353,
    "start_time": "2023-01-11T07:34:15.870Z"
   },
   {
    "duration": 907,
    "start_time": "2023-01-11T07:34:16.224Z"
   },
   {
    "duration": 684,
    "start_time": "2023-01-11T07:34:17.133Z"
   },
   {
    "duration": 1520,
    "start_time": "2023-01-11T07:34:17.819Z"
   },
   {
    "duration": 459,
    "start_time": "2023-01-11T07:34:19.340Z"
   },
   {
    "duration": 2259,
    "start_time": "2023-01-11T07:34:19.800Z"
   },
   {
    "duration": 24,
    "start_time": "2023-01-11T07:34:22.060Z"
   },
   {
    "duration": 270,
    "start_time": "2023-01-11T07:34:22.085Z"
   },
   {
    "duration": 752,
    "start_time": "2023-01-11T07:34:22.357Z"
   },
   {
    "duration": 358,
    "start_time": "2023-01-11T07:34:23.110Z"
   },
   {
    "duration": 1267,
    "start_time": "2023-01-11T07:34:23.469Z"
   },
   {
    "duration": 296,
    "start_time": "2023-01-11T07:34:24.738Z"
   },
   {
    "duration": 1995,
    "start_time": "2023-01-11T07:34:25.036Z"
   },
   {
    "duration": 19,
    "start_time": "2023-01-11T07:34:27.033Z"
   },
   {
    "duration": 180,
    "start_time": "2023-01-11T07:34:27.054Z"
   },
   {
    "duration": 721,
    "start_time": "2023-01-11T07:34:27.236Z"
   },
   {
    "duration": 210,
    "start_time": "2023-01-11T07:34:27.959Z"
   },
   {
    "duration": 1236,
    "start_time": "2023-01-11T07:34:28.171Z"
   },
   {
    "duration": 198,
    "start_time": "2023-01-11T07:34:29.408Z"
   },
   {
    "duration": 1991,
    "start_time": "2023-01-11T07:34:29.607Z"
   },
   {
    "duration": 1368,
    "start_time": "2023-02-08T16:48:59.022Z"
   },
   {
    "duration": 284,
    "start_time": "2023-02-08T16:49:00.392Z"
   },
   {
    "duration": 4,
    "start_time": "2023-02-08T16:49:00.678Z"
   },
   {
    "duration": 96,
    "start_time": "2023-02-08T16:49:00.684Z"
   },
   {
    "duration": 47,
    "start_time": "2023-02-08T16:49:00.783Z"
   },
   {
    "duration": 39,
    "start_time": "2023-02-08T16:49:00.832Z"
   },
   {
    "duration": 5,
    "start_time": "2023-02-08T16:49:00.873Z"
   },
   {
    "duration": 47,
    "start_time": "2023-02-08T16:49:00.880Z"
   },
   {
    "duration": 37,
    "start_time": "2023-02-08T16:49:00.929Z"
   },
   {
    "duration": 39,
    "start_time": "2023-02-08T16:49:00.968Z"
   },
   {
    "duration": 12,
    "start_time": "2023-02-08T16:49:01.009Z"
   },
   {
    "duration": 25,
    "start_time": "2023-02-08T16:49:01.023Z"
   },
   {
    "duration": 45,
    "start_time": "2023-02-08T16:49:01.050Z"
   },
   {
    "duration": 347,
    "start_time": "2023-02-08T16:49:01.098Z"
   },
   {
    "duration": 373,
    "start_time": "2023-02-08T16:49:01.447Z"
   },
   {
    "duration": 298,
    "start_time": "2023-02-08T16:49:01.821Z"
   },
   {
    "duration": 462,
    "start_time": "2023-02-08T16:49:02.122Z"
   },
   {
    "duration": 292,
    "start_time": "2023-02-08T16:49:02.586Z"
   },
   {
    "duration": 370,
    "start_time": "2023-02-08T16:49:02.880Z"
   },
   {
    "duration": 217,
    "start_time": "2023-02-08T16:49:03.252Z"
   },
   {
    "duration": 5,
    "start_time": "2023-02-08T16:49:03.471Z"
   },
   {
    "duration": 238,
    "start_time": "2023-02-08T16:49:03.478Z"
   },
   {
    "duration": 5,
    "start_time": "2023-02-08T16:49:03.717Z"
   },
   {
    "duration": 198,
    "start_time": "2023-02-08T16:49:03.724Z"
   },
   {
    "duration": 20,
    "start_time": "2023-02-08T16:49:03.924Z"
   },
   {
    "duration": 27,
    "start_time": "2023-02-08T16:49:03.946Z"
   },
   {
    "duration": 63,
    "start_time": "2023-02-08T16:49:03.975Z"
   },
   {
    "duration": 30,
    "start_time": "2023-02-08T16:49:04.040Z"
   },
   {
    "duration": 1151,
    "start_time": "2023-02-08T17:12:28.033Z"
   },
   {
    "duration": 139,
    "start_time": "2023-02-08T17:12:29.186Z"
   },
   {
    "duration": 4,
    "start_time": "2023-02-08T17:12:29.327Z"
   },
   {
    "duration": 26,
    "start_time": "2023-02-08T17:12:29.333Z"
   },
   {
    "duration": 20,
    "start_time": "2023-02-08T17:12:29.361Z"
   },
   {
    "duration": 17,
    "start_time": "2023-02-08T17:12:29.383Z"
   },
   {
    "duration": 5,
    "start_time": "2023-02-08T17:12:29.401Z"
   },
   {
    "duration": 10,
    "start_time": "2023-02-08T17:12:29.436Z"
   },
   {
    "duration": 10,
    "start_time": "2023-02-08T17:12:29.448Z"
   },
   {
    "duration": 11,
    "start_time": "2023-02-08T17:12:29.461Z"
   },
   {
    "duration": 7,
    "start_time": "2023-02-08T17:12:29.473Z"
   },
   {
    "duration": 10,
    "start_time": "2023-02-08T17:12:29.482Z"
   },
   {
    "duration": 44,
    "start_time": "2023-02-08T17:12:29.494Z"
   },
   {
    "duration": 302,
    "start_time": "2023-02-08T17:12:29.539Z"
   },
   {
    "duration": 350,
    "start_time": "2023-02-08T17:12:29.843Z"
   },
   {
    "duration": 300,
    "start_time": "2023-02-08T17:12:30.195Z"
   },
   {
    "duration": 360,
    "start_time": "2023-02-08T17:12:30.497Z"
   },
   {
    "duration": 284,
    "start_time": "2023-02-08T17:12:30.859Z"
   },
   {
    "duration": 398,
    "start_time": "2023-02-08T17:12:31.145Z"
   },
   {
    "duration": 184,
    "start_time": "2023-02-08T17:12:31.545Z"
   },
   {
    "duration": 7,
    "start_time": "2023-02-08T17:12:31.730Z"
   },
   {
    "duration": 200,
    "start_time": "2023-02-08T17:12:31.739Z"
   },
   {
    "duration": 5,
    "start_time": "2023-02-08T17:12:31.941Z"
   },
   {
    "duration": 200,
    "start_time": "2023-02-08T17:12:31.948Z"
   },
   {
    "duration": 11,
    "start_time": "2023-02-08T17:12:32.150Z"
   },
   {
    "duration": 10,
    "start_time": "2023-02-08T17:12:32.163Z"
   },
   {
    "duration": 44,
    "start_time": "2023-02-08T17:12:32.175Z"
   },
   {
    "duration": 16,
    "start_time": "2023-02-08T17:12:32.237Z"
   },
   {
    "duration": 1188,
    "start_time": "2023-02-09T07:32:39.185Z"
   },
   {
    "duration": 146,
    "start_time": "2023-02-09T07:32:40.375Z"
   },
   {
    "duration": 5,
    "start_time": "2023-02-09T07:32:40.523Z"
   },
   {
    "duration": 25,
    "start_time": "2023-02-09T07:32:40.529Z"
   },
   {
    "duration": 15,
    "start_time": "2023-02-09T07:32:40.556Z"
   },
   {
    "duration": 16,
    "start_time": "2023-02-09T07:32:40.573Z"
   },
   {
    "duration": 9,
    "start_time": "2023-02-09T07:32:40.603Z"
   },
   {
    "duration": 14,
    "start_time": "2023-02-09T07:32:40.617Z"
   },
   {
    "duration": 11,
    "start_time": "2023-02-09T07:32:40.633Z"
   },
   {
    "duration": 11,
    "start_time": "2023-02-09T07:32:40.647Z"
   },
   {
    "duration": 12,
    "start_time": "2023-02-09T07:32:40.659Z"
   },
   {
    "duration": 46,
    "start_time": "2023-02-09T07:32:40.673Z"
   },
   {
    "duration": 328,
    "start_time": "2023-02-09T07:32:40.721Z"
   },
   {
    "duration": 392,
    "start_time": "2023-02-09T07:32:41.051Z"
   },
   {
    "duration": 303,
    "start_time": "2023-02-09T07:32:41.445Z"
   },
   {
    "duration": 388,
    "start_time": "2023-02-09T07:32:41.750Z"
   },
   {
    "duration": 307,
    "start_time": "2023-02-09T07:32:42.140Z"
   },
   {
    "duration": 429,
    "start_time": "2023-02-09T07:32:42.448Z"
   },
   {
    "duration": 201,
    "start_time": "2023-02-09T07:32:42.878Z"
   },
   {
    "duration": 6,
    "start_time": "2023-02-09T07:32:43.081Z"
   },
   {
    "duration": 237,
    "start_time": "2023-02-09T07:32:43.090Z"
   },
   {
    "duration": 18,
    "start_time": "2023-02-09T07:32:43.329Z"
   },
   {
    "duration": 220,
    "start_time": "2023-02-09T07:32:43.349Z"
   },
   {
    "duration": 14,
    "start_time": "2023-02-09T07:32:43.571Z"
   },
   {
    "duration": 30,
    "start_time": "2023-02-09T07:32:43.587Z"
   },
   {
    "duration": 62,
    "start_time": "2023-02-09T07:32:43.618Z"
   },
   {
    "duration": 14,
    "start_time": "2023-02-09T07:32:43.682Z"
   },
   {
    "duration": 1104,
    "start_time": "2023-02-09T07:34:37.238Z"
   },
   {
    "duration": 118,
    "start_time": "2023-02-09T07:34:38.344Z"
   },
   {
    "duration": 4,
    "start_time": "2023-02-09T07:34:38.463Z"
   },
   {
    "duration": 22,
    "start_time": "2023-02-09T07:34:38.468Z"
   },
   {
    "duration": 21,
    "start_time": "2023-02-09T07:34:38.492Z"
   },
   {
    "duration": 18,
    "start_time": "2023-02-09T07:34:38.514Z"
   },
   {
    "duration": 4,
    "start_time": "2023-02-09T07:34:38.534Z"
   },
   {
    "duration": 9,
    "start_time": "2023-02-09T07:34:38.540Z"
   },
   {
    "duration": 9,
    "start_time": "2023-02-09T07:34:38.550Z"
   },
   {
    "duration": 10,
    "start_time": "2023-02-09T07:34:38.560Z"
   },
   {
    "duration": 37,
    "start_time": "2023-02-09T07:34:38.572Z"
   },
   {
    "duration": 22,
    "start_time": "2023-02-09T07:34:38.610Z"
   },
   {
    "duration": 315,
    "start_time": "2023-02-09T07:34:38.634Z"
   },
   {
    "duration": 370,
    "start_time": "2023-02-09T07:34:38.952Z"
   },
   {
    "duration": 280,
    "start_time": "2023-02-09T07:34:39.324Z"
   },
   {
    "duration": 382,
    "start_time": "2023-02-09T07:34:39.606Z"
   },
   {
    "duration": 285,
    "start_time": "2023-02-09T07:34:39.990Z"
   },
   {
    "duration": 446,
    "start_time": "2023-02-09T07:34:40.277Z"
   },
   {
    "duration": 189,
    "start_time": "2023-02-09T07:34:40.725Z"
   },
   {
    "duration": 8,
    "start_time": "2023-02-09T07:34:40.916Z"
   },
   {
    "duration": 217,
    "start_time": "2023-02-09T07:34:40.926Z"
   },
   {
    "duration": 6,
    "start_time": "2023-02-09T07:34:41.145Z"
   },
   {
    "duration": 203,
    "start_time": "2023-02-09T07:34:41.153Z"
   },
   {
    "duration": 10,
    "start_time": "2023-02-09T07:34:41.357Z"
   },
   {
    "duration": 9,
    "start_time": "2023-02-09T07:34:41.369Z"
   },
   {
    "duration": 56,
    "start_time": "2023-02-09T07:34:41.379Z"
   },
   {
    "duration": 14,
    "start_time": "2023-02-09T07:34:41.437Z"
   },
   {
    "duration": 1159,
    "start_time": "2023-02-17T22:07:02.805Z"
   },
   {
    "duration": 181,
    "start_time": "2023-02-17T22:07:03.965Z"
   },
   {
    "duration": 4,
    "start_time": "2023-02-17T22:07:04.148Z"
   },
   {
    "duration": 39,
    "start_time": "2023-02-17T22:07:04.153Z"
   },
   {
    "duration": 3,
    "start_time": "2023-02-17T22:07:04.193Z"
   },
   {
    "duration": 396,
    "start_time": "2023-02-17T22:07:04.210Z"
   },
   {
    "duration": 132,
    "start_time": "2023-02-17T22:07:04.608Z"
   },
   {
    "duration": 214,
    "start_time": "2023-02-17T22:07:04.741Z"
   },
   {
    "duration": 44,
    "start_time": "2023-02-17T22:07:04.956Z"
   },
   {
    "duration": 37,
    "start_time": "2023-02-17T22:07:05.011Z"
   },
   {
    "duration": 86,
    "start_time": "2023-02-17T22:07:05.050Z"
   },
   {
    "duration": 26,
    "start_time": "2023-02-17T22:07:05.137Z"
   },
   {
    "duration": 632,
    "start_time": "2023-02-17T22:07:05.165Z"
   },
   {
    "duration": 29,
    "start_time": "2023-02-17T22:07:05.798Z"
   },
   {
    "duration": 45,
    "start_time": "2023-02-17T22:07:05.829Z"
   },
   {
    "duration": 4,
    "start_time": "2023-02-17T22:07:05.876Z"
   },
   {
    "duration": 45,
    "start_time": "2023-02-17T22:07:05.881Z"
   },
   {
    "duration": 86,
    "start_time": "2023-02-17T22:07:05.928Z"
   },
   {
    "duration": 30,
    "start_time": "2023-02-17T22:07:06.015Z"
   },
   {
    "duration": 121,
    "start_time": "2023-02-17T22:07:06.047Z"
   },
   {
    "duration": 3,
    "start_time": "2023-02-17T22:07:06.170Z"
   },
   {
    "duration": 15,
    "start_time": "2023-02-17T22:07:06.174Z"
   },
   {
    "duration": 535,
    "start_time": "2023-02-17T22:07:06.190Z"
   },
   {
    "duration": 231,
    "start_time": "2023-02-17T22:07:06.727Z"
   },
   {
    "duration": 196,
    "start_time": "2023-02-17T22:07:06.960Z"
   },
   {
    "duration": 6,
    "start_time": "2023-02-17T22:07:07.157Z"
   },
   {
    "duration": 11,
    "start_time": "2023-02-17T22:07:07.165Z"
   },
   {
    "duration": 8,
    "start_time": "2023-02-17T22:07:07.180Z"
   },
   {
    "duration": 24,
    "start_time": "2023-02-17T22:07:07.190Z"
   },
   {
    "duration": 8,
    "start_time": "2023-02-17T22:07:07.216Z"
   },
   {
    "duration": 12,
    "start_time": "2023-02-17T22:07:07.225Z"
   },
   {
    "duration": 8,
    "start_time": "2023-02-17T22:07:07.238Z"
   },
   {
    "duration": 15,
    "start_time": "2023-02-17T22:07:07.247Z"
   },
   {
    "duration": 14,
    "start_time": "2023-02-17T22:07:07.264Z"
   },
   {
    "duration": 38,
    "start_time": "2023-02-17T22:07:07.280Z"
   },
   {
    "duration": 1705,
    "start_time": "2023-02-18T18:02:25.367Z"
   },
   {
    "duration": 900,
    "start_time": "2023-02-18T18:02:27.074Z"
   },
   {
    "duration": 4,
    "start_time": "2023-02-18T18:02:27.976Z"
   },
   {
    "duration": 57,
    "start_time": "2023-02-18T18:02:27.983Z"
   },
   {
    "duration": 4,
    "start_time": "2023-02-18T18:02:28.043Z"
   },
   {
    "duration": 406,
    "start_time": "2023-02-18T18:02:28.054Z"
   },
   {
    "duration": 156,
    "start_time": "2023-02-18T18:02:28.462Z"
   },
   {
    "duration": 232,
    "start_time": "2023-02-18T18:02:28.621Z"
   },
   {
    "duration": 46,
    "start_time": "2023-02-18T18:02:28.855Z"
   },
   {
    "duration": 94,
    "start_time": "2023-02-18T18:02:28.905Z"
   },
   {
    "duration": 53,
    "start_time": "2023-02-18T18:02:29.001Z"
   },
   {
    "duration": 143,
    "start_time": "2023-02-18T18:02:29.056Z"
   },
   {
    "duration": 79,
    "start_time": "2023-02-18T18:02:29.201Z"
   },
   {
    "duration": 762,
    "start_time": "2023-02-18T18:02:29.282Z"
   },
   {
    "duration": 28,
    "start_time": "2023-02-18T18:02:30.054Z"
   },
   {
    "duration": 52,
    "start_time": "2023-02-18T18:02:30.085Z"
   },
   {
    "duration": 54,
    "start_time": "2023-02-18T18:02:30.139Z"
   },
   {
    "duration": 27,
    "start_time": "2023-02-18T18:02:30.196Z"
   },
   {
    "duration": 102,
    "start_time": "2023-02-18T18:02:30.225Z"
   },
   {
    "duration": 44,
    "start_time": "2023-02-18T18:02:30.329Z"
   },
   {
    "duration": 128,
    "start_time": "2023-02-18T18:02:30.375Z"
   },
   {
    "duration": 8,
    "start_time": "2023-02-18T18:02:30.507Z"
   },
   {
    "duration": 72,
    "start_time": "2023-02-18T18:02:30.517Z"
   },
   {
    "duration": 689,
    "start_time": "2023-02-18T18:02:30.591Z"
   },
   {
    "duration": 255,
    "start_time": "2023-02-18T18:02:31.282Z"
   },
   {
    "duration": 217,
    "start_time": "2023-02-18T18:02:31.538Z"
   },
   {
    "duration": 8,
    "start_time": "2023-02-18T18:02:31.757Z"
   },
   {
    "duration": 29,
    "start_time": "2023-02-18T18:02:31.768Z"
   },
   {
    "duration": 13,
    "start_time": "2023-02-18T18:02:31.799Z"
   },
   {
    "duration": 30,
    "start_time": "2023-02-18T18:02:31.814Z"
   },
   {
    "duration": 19,
    "start_time": "2023-02-18T18:02:31.846Z"
   },
   {
    "duration": 24,
    "start_time": "2023-02-18T18:02:31.867Z"
   },
   {
    "duration": 15,
    "start_time": "2023-02-18T18:02:31.893Z"
   },
   {
    "duration": 24,
    "start_time": "2023-02-18T18:02:31.910Z"
   },
   {
    "duration": 16,
    "start_time": "2023-02-18T18:02:31.936Z"
   },
   {
    "duration": 35,
    "start_time": "2023-02-18T18:02:31.954Z"
   },
   {
    "duration": 1615,
    "start_time": "2023-03-12T17:37:40.795Z"
   },
   {
    "duration": 168,
    "start_time": "2023-03-12T17:37:42.412Z"
   },
   {
    "duration": 0,
    "start_time": "2023-03-12T17:37:42.585Z"
   },
   {
    "duration": 0,
    "start_time": "2023-03-12T17:37:42.586Z"
   },
   {
    "duration": 0,
    "start_time": "2023-03-12T17:37:42.588Z"
   },
   {
    "duration": 0,
    "start_time": "2023-03-12T17:37:42.590Z"
   },
   {
    "duration": 0,
    "start_time": "2023-03-12T17:37:42.591Z"
   },
   {
    "duration": 0,
    "start_time": "2023-03-12T17:37:42.593Z"
   },
   {
    "duration": 0,
    "start_time": "2023-03-12T17:37:42.594Z"
   },
   {
    "duration": 0,
    "start_time": "2023-03-12T17:37:42.595Z"
   },
   {
    "duration": 0,
    "start_time": "2023-03-12T17:37:42.597Z"
   },
   {
    "duration": 0,
    "start_time": "2023-03-12T17:37:42.598Z"
   },
   {
    "duration": 0,
    "start_time": "2023-03-12T17:37:42.599Z"
   },
   {
    "duration": 0,
    "start_time": "2023-03-12T17:37:42.622Z"
   },
   {
    "duration": 0,
    "start_time": "2023-03-12T17:37:42.624Z"
   },
   {
    "duration": 0,
    "start_time": "2023-03-12T17:37:42.625Z"
   },
   {
    "duration": 0,
    "start_time": "2023-03-12T17:37:42.627Z"
   },
   {
    "duration": 0,
    "start_time": "2023-03-12T17:37:42.628Z"
   },
   {
    "duration": 0,
    "start_time": "2023-03-12T17:37:42.629Z"
   },
   {
    "duration": 0,
    "start_time": "2023-03-12T17:37:42.631Z"
   },
   {
    "duration": 0,
    "start_time": "2023-03-12T17:37:42.632Z"
   },
   {
    "duration": 0,
    "start_time": "2023-03-12T17:37:42.634Z"
   },
   {
    "duration": 0,
    "start_time": "2023-03-12T17:37:42.635Z"
   },
   {
    "duration": 0,
    "start_time": "2023-03-12T17:37:42.636Z"
   },
   {
    "duration": 0,
    "start_time": "2023-03-12T17:37:42.638Z"
   },
   {
    "duration": 0,
    "start_time": "2023-03-12T17:37:42.639Z"
   },
   {
    "duration": 0,
    "start_time": "2023-03-12T17:37:42.641Z"
   },
   {
    "duration": 0,
    "start_time": "2023-03-12T17:37:42.642Z"
   },
   {
    "duration": 0,
    "start_time": "2023-03-12T17:37:42.643Z"
   },
   {
    "duration": 1,
    "start_time": "2023-03-12T17:37:42.644Z"
   },
   {
    "duration": 0,
    "start_time": "2023-03-12T17:37:42.646Z"
   },
   {
    "duration": 0,
    "start_time": "2023-03-12T17:37:42.647Z"
   },
   {
    "duration": 0,
    "start_time": "2023-03-12T17:37:42.648Z"
   },
   {
    "duration": 0,
    "start_time": "2023-03-12T17:37:42.649Z"
   },
   {
    "duration": 0,
    "start_time": "2023-03-12T17:37:42.650Z"
   },
   {
    "duration": 0,
    "start_time": "2023-03-12T17:37:42.651Z"
   },
   {
    "duration": 0,
    "start_time": "2023-03-12T17:37:42.652Z"
   },
   {
    "duration": 0,
    "start_time": "2023-03-12T17:37:42.653Z"
   },
   {
    "duration": 0,
    "start_time": "2023-03-12T17:37:42.654Z"
   },
   {
    "duration": 0,
    "start_time": "2023-03-12T17:37:42.655Z"
   },
   {
    "duration": 0,
    "start_time": "2023-03-12T17:37:42.656Z"
   },
   {
    "duration": 0,
    "start_time": "2023-03-12T17:37:42.657Z"
   },
   {
    "duration": 0,
    "start_time": "2023-03-12T17:37:42.659Z"
   },
   {
    "duration": 0,
    "start_time": "2023-03-12T17:37:42.722Z"
   },
   {
    "duration": 0,
    "start_time": "2023-03-12T17:37:42.723Z"
   },
   {
    "duration": 0,
    "start_time": "2023-03-12T17:37:42.724Z"
   },
   {
    "duration": 0,
    "start_time": "2023-03-12T17:37:42.725Z"
   },
   {
    "duration": 0,
    "start_time": "2023-03-12T17:37:42.726Z"
   },
   {
    "duration": 0,
    "start_time": "2023-03-12T17:37:42.727Z"
   },
   {
    "duration": 0,
    "start_time": "2023-03-12T17:37:42.728Z"
   },
   {
    "duration": 0,
    "start_time": "2023-03-12T17:37:42.730Z"
   },
   {
    "duration": 0,
    "start_time": "2023-03-12T17:37:42.731Z"
   },
   {
    "duration": 0,
    "start_time": "2023-03-12T17:37:42.732Z"
   },
   {
    "duration": 0,
    "start_time": "2023-03-12T17:37:42.733Z"
   },
   {
    "duration": 0,
    "start_time": "2023-03-12T17:37:42.734Z"
   },
   {
    "duration": 113,
    "start_time": "2023-03-12T17:37:48.996Z"
   },
   {
    "duration": 6,
    "start_time": "2023-03-12T17:37:51.894Z"
   },
   {
    "duration": 73,
    "start_time": "2023-03-12T17:37:51.902Z"
   },
   {
    "duration": 47,
    "start_time": "2023-03-12T17:37:51.978Z"
   },
   {
    "duration": 5,
    "start_time": "2023-03-12T17:37:52.027Z"
   },
   {
    "duration": 23,
    "start_time": "2023-03-12T17:37:52.034Z"
   },
   {
    "duration": 326,
    "start_time": "2023-03-12T17:37:52.059Z"
   },
   {
    "duration": 40,
    "start_time": "2023-03-12T17:37:52.387Z"
   },
   {
    "duration": 18,
    "start_time": "2023-03-12T17:37:52.429Z"
   },
   {
    "duration": 4194,
    "start_time": "2023-03-12T17:37:52.449Z"
   },
   {
    "duration": 7,
    "start_time": "2023-03-12T17:37:56.645Z"
   },
   {
    "duration": 3,
    "start_time": "2023-03-12T17:37:56.655Z"
   },
   {
    "duration": 61,
    "start_time": "2023-03-12T17:37:56.660Z"
   },
   {
    "duration": 18,
    "start_time": "2023-03-12T17:37:56.723Z"
   },
   {
    "duration": 3,
    "start_time": "2023-03-12T17:37:56.743Z"
   },
   {
    "duration": 11106,
    "start_time": "2023-03-12T17:37:56.748Z"
   },
   {
    "duration": 15,
    "start_time": "2023-03-12T17:38:07.857Z"
   },
   {
    "duration": 606,
    "start_time": "2023-03-12T17:38:07.874Z"
   },
   {
    "duration": 574,
    "start_time": "2023-03-12T17:38:08.482Z"
   },
   {
    "duration": 111,
    "start_time": "2023-03-12T17:38:09.058Z"
   },
   {
    "duration": 369,
    "start_time": "2023-03-12T17:38:09.172Z"
   },
   {
    "duration": 20,
    "start_time": "2023-03-12T17:38:09.543Z"
   },
   {
    "duration": 609,
    "start_time": "2023-03-12T17:38:09.565Z"
   },
   {
    "duration": 18,
    "start_time": "2023-03-12T17:38:10.176Z"
   },
   {
    "duration": 891,
    "start_time": "2023-03-12T17:38:10.195Z"
   },
   {
    "duration": 12,
    "start_time": "2023-03-12T17:38:11.088Z"
   },
   {
    "duration": 302,
    "start_time": "2023-03-12T17:38:11.102Z"
   },
   {
    "duration": 20,
    "start_time": "2023-03-12T17:38:11.406Z"
   },
   {
    "duration": 726,
    "start_time": "2023-03-12T17:38:11.428Z"
   },
   {
    "duration": 7,
    "start_time": "2023-03-12T17:38:12.158Z"
   },
   {
    "duration": 324,
    "start_time": "2023-03-12T17:38:12.166Z"
   },
   {
    "duration": 8,
    "start_time": "2023-03-12T17:38:12.492Z"
   },
   {
    "duration": 28,
    "start_time": "2023-03-12T17:38:12.501Z"
   },
   {
    "duration": 0,
    "start_time": "2023-03-12T17:38:12.531Z"
   },
   {
    "duration": 0,
    "start_time": "2023-03-12T17:38:12.532Z"
   },
   {
    "duration": 0,
    "start_time": "2023-03-12T17:38:12.534Z"
   },
   {
    "duration": 0,
    "start_time": "2023-03-12T17:38:12.535Z"
   },
   {
    "duration": 0,
    "start_time": "2023-03-12T17:38:12.537Z"
   },
   {
    "duration": 0,
    "start_time": "2023-03-12T17:38:12.539Z"
   },
   {
    "duration": 0,
    "start_time": "2023-03-12T17:38:12.540Z"
   },
   {
    "duration": 0,
    "start_time": "2023-03-12T17:38:12.541Z"
   },
   {
    "duration": 0,
    "start_time": "2023-03-12T17:38:12.543Z"
   },
   {
    "duration": 0,
    "start_time": "2023-03-12T17:38:12.544Z"
   },
   {
    "duration": 0,
    "start_time": "2023-03-12T17:38:12.546Z"
   },
   {
    "duration": 0,
    "start_time": "2023-03-12T17:38:12.547Z"
   },
   {
    "duration": 0,
    "start_time": "2023-03-12T17:38:12.548Z"
   },
   {
    "duration": 0,
    "start_time": "2023-03-12T17:38:12.550Z"
   },
   {
    "duration": 0,
    "start_time": "2023-03-12T17:38:12.551Z"
   },
   {
    "duration": 0,
    "start_time": "2023-03-12T17:38:12.552Z"
   },
   {
    "duration": 0,
    "start_time": "2023-03-12T17:38:12.554Z"
   },
   {
    "duration": 0,
    "start_time": "2023-03-12T17:38:12.556Z"
   },
   {
    "duration": 0,
    "start_time": "2023-03-12T17:38:12.557Z"
   },
   {
    "duration": 0,
    "start_time": "2023-03-12T17:38:12.558Z"
   },
   {
    "duration": 5,
    "start_time": "2023-03-12T17:41:49.251Z"
   },
   {
    "duration": 1451,
    "start_time": "2023-03-13T17:09:32.851Z"
   },
   {
    "duration": 71,
    "start_time": "2023-03-13T17:09:34.304Z"
   },
   {
    "duration": 82,
    "start_time": "2023-03-13T17:09:34.376Z"
   },
   {
    "duration": 3,
    "start_time": "2023-03-13T17:09:34.460Z"
   },
   {
    "duration": 48,
    "start_time": "2023-03-13T17:09:34.465Z"
   },
   {
    "duration": 23,
    "start_time": "2023-03-13T17:09:34.514Z"
   },
   {
    "duration": 17,
    "start_time": "2023-03-13T17:09:34.539Z"
   },
   {
    "duration": 8,
    "start_time": "2023-03-13T17:09:34.558Z"
   },
   {
    "duration": 600,
    "start_time": "2023-03-13T17:09:34.567Z"
   },
   {
    "duration": 74,
    "start_time": "2023-03-13T17:09:35.169Z"
   },
   {
    "duration": 14,
    "start_time": "2023-03-13T17:09:35.245Z"
   },
   {
    "duration": 185,
    "start_time": "2023-03-13T17:09:35.260Z"
   },
   {
    "duration": 9,
    "start_time": "2023-03-13T17:09:35.447Z"
   },
   {
    "duration": 8,
    "start_time": "2023-03-13T17:09:35.459Z"
   },
   {
    "duration": 69,
    "start_time": "2023-03-13T17:09:35.469Z"
   },
   {
    "duration": 8,
    "start_time": "2023-03-13T17:09:35.540Z"
   },
   {
    "duration": 10055,
    "start_time": "2023-03-13T17:09:35.550Z"
   },
   {
    "duration": 29,
    "start_time": "2023-03-13T17:09:45.607Z"
   },
   {
    "duration": 568,
    "start_time": "2023-03-13T17:09:45.637Z"
   },
   {
    "duration": 405,
    "start_time": "2023-03-13T17:09:46.207Z"
   },
   {
    "duration": 136,
    "start_time": "2023-03-13T17:09:46.614Z"
   },
   {
    "duration": 405,
    "start_time": "2023-03-13T17:09:46.752Z"
   },
   {
    "duration": 19,
    "start_time": "2023-03-13T17:09:47.158Z"
   },
   {
    "duration": 474,
    "start_time": "2023-03-13T17:09:47.179Z"
   },
   {
    "duration": 17,
    "start_time": "2023-03-13T17:09:47.655Z"
   },
   {
    "duration": 881,
    "start_time": "2023-03-13T17:09:47.673Z"
   },
   {
    "duration": 11,
    "start_time": "2023-03-13T17:09:48.556Z"
   },
   {
    "duration": 295,
    "start_time": "2023-03-13T17:09:48.569Z"
   },
   {
    "duration": 13,
    "start_time": "2023-03-13T17:09:48.866Z"
   },
   {
    "duration": 700,
    "start_time": "2023-03-13T17:09:48.881Z"
   },
   {
    "duration": 7,
    "start_time": "2023-03-13T17:09:49.583Z"
   },
   {
    "duration": 286,
    "start_time": "2023-03-13T17:09:49.591Z"
   },
   {
    "duration": 8,
    "start_time": "2023-03-13T17:09:49.879Z"
   },
   {
    "duration": 94,
    "start_time": "2023-03-13T17:09:49.888Z"
   },
   {
    "duration": 270,
    "start_time": "2023-03-13T17:09:49.983Z"
   },
   {
    "duration": 7,
    "start_time": "2023-03-13T17:09:50.255Z"
   },
   {
    "duration": 100,
    "start_time": "2023-03-13T17:09:50.263Z"
   },
   {
    "duration": 272,
    "start_time": "2023-03-13T17:09:50.365Z"
   },
   {
    "duration": 9,
    "start_time": "2023-03-13T17:09:50.638Z"
   },
   {
    "duration": 275,
    "start_time": "2023-03-13T17:09:50.648Z"
   },
   {
    "duration": 7,
    "start_time": "2023-03-13T17:09:50.927Z"
   },
   {
    "duration": 267,
    "start_time": "2023-03-13T17:09:50.936Z"
   },
   {
    "duration": 259,
    "start_time": "2023-03-13T17:09:51.205Z"
   },
   {
    "duration": 95,
    "start_time": "2023-03-13T17:09:51.465Z"
   },
   {
    "duration": 5,
    "start_time": "2023-03-13T17:09:51.561Z"
   },
   {
    "duration": 15,
    "start_time": "2023-03-13T17:09:51.568Z"
   },
   {
    "duration": 353,
    "start_time": "2023-03-13T17:09:51.585Z"
   },
   {
    "duration": 80,
    "start_time": "2023-03-13T17:09:51.940Z"
   },
   {
    "duration": 5,
    "start_time": "2023-03-13T17:09:52.035Z"
   },
   {
    "duration": 31,
    "start_time": "2023-03-13T17:09:52.042Z"
   },
   {
    "duration": 13,
    "start_time": "2023-03-13T17:09:52.074Z"
   },
   {
    "duration": 428,
    "start_time": "2023-03-13T17:09:52.089Z"
   },
   {
    "duration": 393,
    "start_time": "2023-03-13T17:09:52.518Z"
   },
   {
    "duration": 93,
    "start_time": "2023-03-13T17:09:52.913Z"
   },
   {
    "duration": 5,
    "start_time": "2023-03-13T17:15:51.683Z"
   },
   {
    "duration": 321,
    "start_time": "2023-03-13T17:16:11.091Z"
   },
   {
    "duration": 1171,
    "start_time": "2023-04-13T12:24:06.510Z"
   },
   {
    "duration": 1157,
    "start_time": "2023-04-13T12:24:07.683Z"
   },
   {
    "duration": 5,
    "start_time": "2023-04-13T12:24:08.842Z"
   },
   {
    "duration": 32,
    "start_time": "2023-04-13T12:24:08.849Z"
   },
   {
    "duration": 232,
    "start_time": "2023-04-13T12:24:08.882Z"
   },
   {
    "duration": 1897,
    "start_time": "2023-04-13T12:24:09.117Z"
   },
   {
    "duration": 57,
    "start_time": "2023-04-13T12:24:11.016Z"
   },
   {
    "duration": 60,
    "start_time": "2023-04-13T12:24:11.096Z"
   },
   {
    "duration": 107,
    "start_time": "2023-04-13T12:24:11.158Z"
   },
   {
    "duration": 8,
    "start_time": "2023-04-13T12:24:11.267Z"
   },
   {
    "duration": 132,
    "start_time": "2023-04-13T12:24:11.277Z"
   },
   {
    "duration": 4,
    "start_time": "2023-04-13T12:24:11.417Z"
   },
   {
    "duration": 6,
    "start_time": "2023-04-13T12:24:11.423Z"
   },
   {
    "duration": 9,
    "start_time": "2023-04-13T12:24:11.431Z"
   },
   {
    "duration": 5,
    "start_time": "2023-04-13T12:24:11.442Z"
   },
   {
    "duration": 12,
    "start_time": "2023-04-13T12:24:11.449Z"
   },
   {
    "duration": 43,
    "start_time": "2023-04-13T12:24:11.463Z"
   },
   {
    "duration": 15,
    "start_time": "2023-04-13T12:24:11.507Z"
   },
   {
    "duration": 3,
    "start_time": "2023-04-13T12:24:11.523Z"
   },
   {
    "duration": 137,
    "start_time": "2023-04-13T12:24:11.528Z"
   },
   {
    "duration": 12,
    "start_time": "2023-04-13T12:24:11.666Z"
   },
   {
    "duration": 37,
    "start_time": "2023-04-13T12:24:11.680Z"
   },
   {
    "duration": 13,
    "start_time": "2023-04-13T12:24:11.718Z"
   },
   {
    "duration": 7,
    "start_time": "2023-04-13T12:24:11.732Z"
   },
   {
    "duration": 14,
    "start_time": "2023-04-13T12:24:11.740Z"
   },
   {
    "duration": 52,
    "start_time": "2023-04-13T12:24:11.756Z"
   },
   {
    "duration": 11,
    "start_time": "2023-04-13T12:24:11.809Z"
   },
   {
    "duration": 11,
    "start_time": "2023-04-13T12:24:11.823Z"
   },
   {
    "duration": 16,
    "start_time": "2023-04-13T12:24:11.836Z"
   },
   {
    "duration": 11,
    "start_time": "2023-04-13T12:24:11.853Z"
   },
   {
    "duration": 423,
    "start_time": "2023-04-13T12:24:11.866Z"
   },
   {
    "duration": 17,
    "start_time": "2023-04-13T12:24:12.290Z"
   },
   {
    "duration": 1082,
    "start_time": "2023-04-13T12:24:12.310Z"
   },
   {
    "duration": 332,
    "start_time": "2023-04-13T12:24:13.394Z"
   },
   {
    "duration": 13,
    "start_time": "2023-04-13T12:24:13.727Z"
   },
   {
    "duration": 29,
    "start_time": "2023-04-13T12:24:13.741Z"
   },
   {
    "duration": 37,
    "start_time": "2023-04-13T12:24:13.771Z"
   },
   {
    "duration": 8,
    "start_time": "2023-04-13T12:24:13.810Z"
   },
   {
    "duration": 560,
    "start_time": "2023-04-13T12:24:13.819Z"
   },
   {
    "duration": 268,
    "start_time": "2023-04-13T12:24:14.380Z"
   },
   {
    "duration": 17,
    "start_time": "2023-04-13T12:24:14.650Z"
   },
   {
    "duration": 29,
    "start_time": "2023-04-13T12:24:14.668Z"
   },
   {
    "duration": 7,
    "start_time": "2023-04-13T12:24:14.702Z"
   },
   {
    "duration": 29,
    "start_time": "2023-04-13T12:24:14.711Z"
   },
   {
    "duration": 10,
    "start_time": "2023-04-13T12:24:14.742Z"
   },
   {
    "duration": 29,
    "start_time": "2023-04-13T12:24:14.754Z"
   },
   {
    "duration": 129,
    "start_time": "2023-04-13T12:24:32.912Z"
   },
   {
    "duration": 6,
    "start_time": "2023-04-13T12:28:56.733Z"
   },
   {
    "duration": 3,
    "start_time": "2023-04-13T12:28:58.033Z"
   },
   {
    "duration": 8,
    "start_time": "2023-04-13T12:29:06.769Z"
   }
  ],
  "kernelspec": {
   "display_name": "Python 3 (ipykernel)",
   "language": "python",
   "name": "python3"
  },
  "language_info": {
   "codemirror_mode": {
    "name": "ipython",
    "version": 3
   },
   "file_extension": ".py",
   "mimetype": "text/x-python",
   "name": "python",
   "nbconvert_exporter": "python",
   "pygments_lexer": "ipython3",
   "version": "3.9.16"
  },
  "toc": {
   "base_numbering": 1,
   "nav_menu": {
    "height": "53.9931px",
    "width": "498.993px"
   },
   "number_sections": true,
   "sideBar": true,
   "skip_h1_title": true,
   "title_cell": "Содержание",
   "title_sidebar": "Contents",
   "toc_cell": true,
   "toc_position": {
    "height": "calc(100% - 180px)",
    "left": "10px",
    "top": "150px",
    "width": "525.723px"
   },
   "toc_section_display": true,
   "toc_window_display": true
  }
 },
 "nbformat": 4,
 "nbformat_minor": 5
}
